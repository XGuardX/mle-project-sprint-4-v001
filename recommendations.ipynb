{
 "cells": [
  {
   "cell_type": "markdown",
   "id": "944ade16",
   "metadata": {},
   "source": [
    "Привет, Андрей! \n",
    "\n",
    "Меня зовут Светлана Медведева и я буду проверять Твою работу. Предлагаю общаться на \"ты\". Если Тебе такой вариант не удобен, то пожалуйста дай знать. Я сразу перейду на \"Вы\".\n",
    "\n",
    "При обнаружении у Тебя в работе ошибки, в первый раз я лишь укажу на ее наличие и у Тебя будет возможность самому найти её и исправить. В реальной работе твой начальник будет поступать также, а я пытаюсь подготовить тебя именно к работе Data Scientist. Однако, если ты пока не справишься с такой задачей - при следующей проверке я дам более точную подсказку.\n",
    "\n",
    "Просьба при доработке работы оставлять мои комментарии без изменений.\n",
    "\n",
    "Комментарии я разделяю на следующие категории:\n",
    "\n",
    "<div class=\"alert alert-block alert-success\">\n",
    "<h2> Комментарий ревьюера ✔️</h2>\n",
    "    \n",
    "В случае если всё верно!\n",
    "</div>\n",
    "\n",
    "\n",
    "<div class=\"alert alert-block alert-warning\">\n",
    "<h2> Комментарий ревьюера ⚠️</h2>\n",
    "    \n",
    "В случае если можно что-то доработать, но эта доработка не критична или если есть варианты улучшения работы.\n",
    "</div>\n",
    "\n",
    "<div class=\"alert alert-block alert-danger\">\n",
    "<h2> Комментарий ревьюера ❌</h2>\n",
    "    \n",
    "Замечания, которые нужно исправить. Без исправления этих замечаний проект принят не может быть.\n",
    "</div>\n",
    "\n",
    "\n",
    "<div class=\"alert alert-block alert-info\">\n",
    "Дополнительные материалы, выходящие за рамки программы.\n",
    "</div>\n",
    "\n",
    "## Ревью v. 1:\n",
    "\n",
    "У Тебя в целом хорошая работа, но нужно внести исправления) К сожалению, в коде есть ошибка и это нужно исправить. После этого я смогу продолжить проверку проекта.\n",
    "\n",
    "Жду проект на проверку:)\n",
    "\n",
    "Успехов!"
   ]
  },
  {
   "cell_type": "markdown",
   "id": "cd1d6d1b",
   "metadata": {},
   "source": [
    "Студент: Привет, можно на 'ты'"
   ]
  },
  {
   "cell_type": "markdown",
   "id": "f4095ae4-7294-4b28-853e-88d235002c97",
   "metadata": {},
   "source": [
    "# Инициализация"
   ]
  },
  {
   "cell_type": "markdown",
   "id": "2f2318d2-9df8-4911-915e-15b725c44f8a",
   "metadata": {},
   "source": [
    "Загружаем библиотеки необходимые для выполнения кода ноутбука."
   ]
  },
  {
   "cell_type": "code",
   "execution_count": 4,
   "id": "662d04e7-1b0b-4e4a-9ddf-4526d7fef119",
   "metadata": {
    "trusted": false
   },
   "outputs": [],
   "source": [
    "import logging\n",
    "import os\n",
    "import warnings\n",
    "\n",
    "import numpy as np\n",
    "import pandas as pd\n",
    "import s3fs\n",
    "from dotenv import load_dotenv\n",
    "from implicit.als import AlternatingLeastSquares\n",
    "from sklearn.metrics import mean_squared_error, mean_absolute_error, ndcg_score\n",
    "from sklearn.preprocessing import MinMaxScaler, LabelEncoder\n",
    "import scipy.sparse as sp\n",
    "import scipy.stats as stats\n",
    "from catboost import CatBoostClassifier, Pool\n",
    "import seaborn as sns\n",
    "import matplotlib.pyplot as plt\n",
    "\n",
    "warnings.filterwarnings(\"ignore\")\n",
    "\n",
    "%matplotlib inline\n",
    "%config InlineBackend.figure_format = 'png'\n",
    "%config InlineBackend.figure_format = 'retina'"
   ]
  },
  {
   "cell_type": "markdown",
   "id": "1d45e32e",
   "metadata": {},
   "source": [
    "<div class=\"alert alert-block alert-warning\">\n",
    "<h2> Комментарий ревьюера ⚠️</h2>\n",
    "    \n",
    "В соответствии с правилами оформления кода PEP8 импорты должны быть сгруппированы в следующем порядке:\n",
    "* импорты из стандартной библиотеки\n",
    "* импорты сторонних библиотек\n",
    "* импорты модулей текущего проекта\n",
    "\n",
    "Рекомендуется добавлять пустую строку между каждой группой импортов.\n",
    "\n",
    "Подробные правила можно посмотреть: https://pythonworld.ru/osnovy/pep-8-rukovodstvo-po-napisaniyu-koda-na-python.html#section-8\n",
    "</div>"
   ]
  },
  {
   "cell_type": "markdown",
   "id": "bf80fbc5-b660-4fac-8fbb-a5cae77313b3",
   "metadata": {},
   "source": [
    "# === ЭТАП 1 ==="
   ]
  },
  {
   "cell_type": "markdown",
   "id": "5263a8b3-fe99-4204-8a2e-105182792c11",
   "metadata": {},
   "source": [
    "# Загрузка первичных данных"
   ]
  },
  {
   "cell_type": "markdown",
   "id": "1b54a6a5-1656-4e3c-99d1-49dc39451d33",
   "metadata": {},
   "source": [
    "Загружаем первичные данные из файлов:\n",
    "- tracks.parquet\n",
    "- catalog_names.parquet\n",
    "- interactions.parquet"
   ]
  },
  {
   "cell_type": "code",
   "execution_count": 5,
   "id": "5d4b8961-3f35-4e58-9d6b-3e2dbd2c4224",
   "metadata": {
    "trusted": false
   },
   "outputs": [],
   "source": [
    "tracks = pd.read_parquet(\"tracks.parquet\")\n",
    "catalog_names = pd.read_parquet(\"catalog_names.parquet\")\n",
    "interactions = pd.read_parquet(\"interactions.parquet\")"
   ]
  },
  {
   "cell_type": "markdown",
   "id": "5fa4c6c8",
   "metadata": {},
   "source": [
    "<div class=\"alert alert-block alert-success\">\n",
    "<h2> Комментарий ревьюера ✔️</h2>\n",
    "    \n",
    "Отлично, данные загружены.\n",
    "</div>"
   ]
  },
  {
   "cell_type": "markdown",
   "id": "e8f2a1f7-a05f-4f39-af90-5f4018aa6f9d",
   "metadata": {},
   "source": [
    "# Обзор данных"
   ]
  },
  {
   "cell_type": "markdown",
   "id": "46a85307-896c-4fac-9fcf-f0dffa90889e",
   "metadata": {},
   "source": [
    "Проверяем данные, есть ли с ними явные проблемы."
   ]
  },
  {
   "cell_type": "code",
   "execution_count": 6,
   "id": "522367a0",
   "metadata": {
    "trusted": false
   },
   "outputs": [
    {
     "data": {
      "application/vnd.microsoft.datawrangler.viewer.v0+json": {
       "columns": [
        {
         "name": "index",
         "rawType": "int64",
         "type": "integer"
        },
        {
         "name": "track_id",
         "rawType": "int64",
         "type": "integer"
        },
        {
         "name": "albums",
         "rawType": "object",
         "type": "unknown"
        },
        {
         "name": "artists",
         "rawType": "object",
         "type": "unknown"
        },
        {
         "name": "genres",
         "rawType": "object",
         "type": "unknown"
        }
       ],
       "conversionMethod": "pd.DataFrame",
       "ref": "352af106-c3b0-4fcb-82a7-30b174cd30e7",
       "rows": [
        [
         "0",
         "26",
         "[      3 2490753]",
         "[16]",
         "[11 21]"
        ],
        [
         "1",
         "38",
         "[      3 2490753]",
         "[16]",
         "[11 21]"
        ],
        [
         "2",
         "135",
         "[     12     214 2490809]",
         "[84]",
         "[11]"
        ],
        [
         "3",
         "136",
         "[     12     214 2490809]",
         "[84]",
         "[11]"
        ],
        [
         "4",
         "138",
         "[      12      214      322    72275    72292    91199   213505  2490809\n  6007655 17294156]",
         "[84]",
         "[11]"
        ]
       ],
       "shape": {
        "columns": 4,
        "rows": 5
       }
      },
      "text/html": [
       "<div>\n",
       "<style scoped>\n",
       "    .dataframe tbody tr th:only-of-type {\n",
       "        vertical-align: middle;\n",
       "    }\n",
       "\n",
       "    .dataframe tbody tr th {\n",
       "        vertical-align: top;\n",
       "    }\n",
       "\n",
       "    .dataframe thead th {\n",
       "        text-align: right;\n",
       "    }\n",
       "</style>\n",
       "<table border=\"1\" class=\"dataframe\">\n",
       "  <thead>\n",
       "    <tr style=\"text-align: right;\">\n",
       "      <th></th>\n",
       "      <th>track_id</th>\n",
       "      <th>albums</th>\n",
       "      <th>artists</th>\n",
       "      <th>genres</th>\n",
       "    </tr>\n",
       "  </thead>\n",
       "  <tbody>\n",
       "    <tr>\n",
       "      <th>0</th>\n",
       "      <td>26</td>\n",
       "      <td>[3, 2490753]</td>\n",
       "      <td>[16]</td>\n",
       "      <td>[11, 21]</td>\n",
       "    </tr>\n",
       "    <tr>\n",
       "      <th>1</th>\n",
       "      <td>38</td>\n",
       "      <td>[3, 2490753]</td>\n",
       "      <td>[16]</td>\n",
       "      <td>[11, 21]</td>\n",
       "    </tr>\n",
       "    <tr>\n",
       "      <th>2</th>\n",
       "      <td>135</td>\n",
       "      <td>[12, 214, 2490809]</td>\n",
       "      <td>[84]</td>\n",
       "      <td>[11]</td>\n",
       "    </tr>\n",
       "    <tr>\n",
       "      <th>3</th>\n",
       "      <td>136</td>\n",
       "      <td>[12, 214, 2490809]</td>\n",
       "      <td>[84]</td>\n",
       "      <td>[11]</td>\n",
       "    </tr>\n",
       "    <tr>\n",
       "      <th>4</th>\n",
       "      <td>138</td>\n",
       "      <td>[12, 214, 322, 72275, 72292, 91199, 213505, 24...</td>\n",
       "      <td>[84]</td>\n",
       "      <td>[11]</td>\n",
       "    </tr>\n",
       "  </tbody>\n",
       "</table>\n",
       "</div>"
      ],
      "text/plain": [
       "   track_id                                             albums artists  \\\n",
       "0        26                                       [3, 2490753]    [16]   \n",
       "1        38                                       [3, 2490753]    [16]   \n",
       "2       135                                 [12, 214, 2490809]    [84]   \n",
       "3       136                                 [12, 214, 2490809]    [84]   \n",
       "4       138  [12, 214, 322, 72275, 72292, 91199, 213505, 24...    [84]   \n",
       "\n",
       "     genres  \n",
       "0  [11, 21]  \n",
       "1  [11, 21]  \n",
       "2      [11]  \n",
       "3      [11]  \n",
       "4      [11]  "
      ]
     },
     "execution_count": 6,
     "metadata": {},
     "output_type": "execute_result"
    }
   ],
   "source": [
    "tracks.head()"
   ]
  },
  {
   "cell_type": "code",
   "execution_count": 7,
   "id": "c9f8f17e-9b56-4f5a-a463-f694a993effb",
   "metadata": {
    "trusted": false
   },
   "outputs": [
    {
     "name": "stdout",
     "output_type": "stream",
     "text": [
      "<class 'pandas.core.frame.DataFrame'>\n",
      "RangeIndex: 1000000 entries, 0 to 999999\n",
      "Data columns (total 4 columns):\n",
      " #   Column    Non-Null Count    Dtype \n",
      "---  ------    --------------    ----- \n",
      " 0   track_id  1000000 non-null  int64 \n",
      " 1   albums    1000000 non-null  object\n",
      " 2   artists   1000000 non-null  object\n",
      " 3   genres    1000000 non-null  object\n",
      "dtypes: int64(1), object(3)\n",
      "memory usage: 30.5+ MB\n"
     ]
    }
   ],
   "source": [
    "tracks.info()"
   ]
  },
  {
   "cell_type": "code",
   "execution_count": 8,
   "id": "4edd708b",
   "metadata": {
    "trusted": false
   },
   "outputs": [
    {
     "data": {
      "application/vnd.microsoft.datawrangler.viewer.v0+json": {
       "columns": [
        {
         "name": "index",
         "rawType": "int64",
         "type": "integer"
        },
        {
         "name": "id",
         "rawType": "int64",
         "type": "integer"
        },
        {
         "name": "type",
         "rawType": "object",
         "type": "string"
        },
        {
         "name": "name",
         "rawType": "object",
         "type": "string"
        }
       ],
       "conversionMethod": "pd.DataFrame",
       "ref": "c1d2f4d3-6c4f-4de1-b579-c94cd64a3cf2",
       "rows": [
        [
         "0",
         "3",
         "album",
         "Taller Children"
        ],
        [
         "1",
         "12",
         "album",
         "Wild Young Hearts"
        ],
        [
         "2",
         "13",
         "album",
         "Lonesome Crow"
        ],
        [
         "3",
         "17",
         "album",
         "Graffiti Soul"
        ],
        [
         "4",
         "26",
         "album",
         "Blues Six Pack"
        ]
       ],
       "shape": {
        "columns": 3,
        "rows": 5
       }
      },
      "text/html": [
       "<div>\n",
       "<style scoped>\n",
       "    .dataframe tbody tr th:only-of-type {\n",
       "        vertical-align: middle;\n",
       "    }\n",
       "\n",
       "    .dataframe tbody tr th {\n",
       "        vertical-align: top;\n",
       "    }\n",
       "\n",
       "    .dataframe thead th {\n",
       "        text-align: right;\n",
       "    }\n",
       "</style>\n",
       "<table border=\"1\" class=\"dataframe\">\n",
       "  <thead>\n",
       "    <tr style=\"text-align: right;\">\n",
       "      <th></th>\n",
       "      <th>id</th>\n",
       "      <th>type</th>\n",
       "      <th>name</th>\n",
       "    </tr>\n",
       "  </thead>\n",
       "  <tbody>\n",
       "    <tr>\n",
       "      <th>0</th>\n",
       "      <td>3</td>\n",
       "      <td>album</td>\n",
       "      <td>Taller Children</td>\n",
       "    </tr>\n",
       "    <tr>\n",
       "      <th>1</th>\n",
       "      <td>12</td>\n",
       "      <td>album</td>\n",
       "      <td>Wild Young Hearts</td>\n",
       "    </tr>\n",
       "    <tr>\n",
       "      <th>2</th>\n",
       "      <td>13</td>\n",
       "      <td>album</td>\n",
       "      <td>Lonesome Crow</td>\n",
       "    </tr>\n",
       "    <tr>\n",
       "      <th>3</th>\n",
       "      <td>17</td>\n",
       "      <td>album</td>\n",
       "      <td>Graffiti Soul</td>\n",
       "    </tr>\n",
       "    <tr>\n",
       "      <th>4</th>\n",
       "      <td>26</td>\n",
       "      <td>album</td>\n",
       "      <td>Blues Six Pack</td>\n",
       "    </tr>\n",
       "  </tbody>\n",
       "</table>\n",
       "</div>"
      ],
      "text/plain": [
       "   id   type               name\n",
       "0   3  album    Taller Children\n",
       "1  12  album  Wild Young Hearts\n",
       "2  13  album      Lonesome Crow\n",
       "3  17  album      Graffiti Soul\n",
       "4  26  album     Blues Six Pack"
      ]
     },
     "execution_count": 8,
     "metadata": {},
     "output_type": "execute_result"
    }
   ],
   "source": [
    "catalog_names.head()"
   ]
  },
  {
   "cell_type": "code",
   "execution_count": 9,
   "id": "efd2e2eb-3bec-4ce1-87ac-232bab8bc0d0",
   "metadata": {
    "trusted": false
   },
   "outputs": [
    {
     "name": "stdout",
     "output_type": "stream",
     "text": [
      "<class 'pandas.core.frame.DataFrame'>\n",
      "RangeIndex: 1812471 entries, 0 to 1812470\n",
      "Data columns (total 3 columns):\n",
      " #   Column  Dtype \n",
      "---  ------  ----- \n",
      " 0   id      int64 \n",
      " 1   type    object\n",
      " 2   name    object\n",
      "dtypes: int64(1), object(2)\n",
      "memory usage: 41.5+ MB\n"
     ]
    }
   ],
   "source": [
    "catalog_names.info()"
   ]
  },
  {
   "cell_type": "code",
   "execution_count": 10,
   "id": "29b5a686",
   "metadata": {
    "trusted": false
   },
   "outputs": [
    {
     "data": {
      "application/vnd.microsoft.datawrangler.viewer.v0+json": {
       "columns": [
        {
         "name": "index",
         "rawType": "int64",
         "type": "integer"
        },
        {
         "name": "user_id",
         "rawType": "int32",
         "type": "integer"
        },
        {
         "name": "track_id",
         "rawType": "int32",
         "type": "integer"
        },
        {
         "name": "track_seq",
         "rawType": "int16",
         "type": "integer"
        },
        {
         "name": "started_at",
         "rawType": "datetime64[ns]",
         "type": "datetime"
        }
       ],
       "conversionMethod": "pd.DataFrame",
       "ref": "e510685d-e819-4d66-974e-359fc2cc3c4f",
       "rows": [
        [
         "0",
         "0",
         "99262",
         "1",
         "2022-07-17 00:00:00"
        ],
        [
         "1",
         "0",
         "589498",
         "2",
         "2022-07-19 00:00:00"
        ],
        [
         "2",
         "0",
         "590262",
         "3",
         "2022-07-21 00:00:00"
        ],
        [
         "3",
         "0",
         "590303",
         "4",
         "2022-07-22 00:00:00"
        ],
        [
         "4",
         "0",
         "590692",
         "5",
         "2022-07-22 00:00:00"
        ]
       ],
       "shape": {
        "columns": 4,
        "rows": 5
       }
      },
      "text/html": [
       "<div>\n",
       "<style scoped>\n",
       "    .dataframe tbody tr th:only-of-type {\n",
       "        vertical-align: middle;\n",
       "    }\n",
       "\n",
       "    .dataframe tbody tr th {\n",
       "        vertical-align: top;\n",
       "    }\n",
       "\n",
       "    .dataframe thead th {\n",
       "        text-align: right;\n",
       "    }\n",
       "</style>\n",
       "<table border=\"1\" class=\"dataframe\">\n",
       "  <thead>\n",
       "    <tr style=\"text-align: right;\">\n",
       "      <th></th>\n",
       "      <th>user_id</th>\n",
       "      <th>track_id</th>\n",
       "      <th>track_seq</th>\n",
       "      <th>started_at</th>\n",
       "    </tr>\n",
       "  </thead>\n",
       "  <tbody>\n",
       "    <tr>\n",
       "      <th>0</th>\n",
       "      <td>0</td>\n",
       "      <td>99262</td>\n",
       "      <td>1</td>\n",
       "      <td>2022-07-17</td>\n",
       "    </tr>\n",
       "    <tr>\n",
       "      <th>1</th>\n",
       "      <td>0</td>\n",
       "      <td>589498</td>\n",
       "      <td>2</td>\n",
       "      <td>2022-07-19</td>\n",
       "    </tr>\n",
       "    <tr>\n",
       "      <th>2</th>\n",
       "      <td>0</td>\n",
       "      <td>590262</td>\n",
       "      <td>3</td>\n",
       "      <td>2022-07-21</td>\n",
       "    </tr>\n",
       "    <tr>\n",
       "      <th>3</th>\n",
       "      <td>0</td>\n",
       "      <td>590303</td>\n",
       "      <td>4</td>\n",
       "      <td>2022-07-22</td>\n",
       "    </tr>\n",
       "    <tr>\n",
       "      <th>4</th>\n",
       "      <td>0</td>\n",
       "      <td>590692</td>\n",
       "      <td>5</td>\n",
       "      <td>2022-07-22</td>\n",
       "    </tr>\n",
       "  </tbody>\n",
       "</table>\n",
       "</div>"
      ],
      "text/plain": [
       "   user_id  track_id  track_seq started_at\n",
       "0        0     99262          1 2022-07-17\n",
       "1        0    589498          2 2022-07-19\n",
       "2        0    590262          3 2022-07-21\n",
       "3        0    590303          4 2022-07-22\n",
       "4        0    590692          5 2022-07-22"
      ]
     },
     "execution_count": 10,
     "metadata": {},
     "output_type": "execute_result"
    }
   ],
   "source": [
    "interactions.head()"
   ]
  },
  {
   "cell_type": "code",
   "execution_count": 11,
   "id": "0b3c067f",
   "metadata": {
    "trusted": false
   },
   "outputs": [
    {
     "name": "stdout",
     "output_type": "stream",
     "text": [
      "<class 'pandas.core.frame.DataFrame'>\n",
      "Index: 222629898 entries, 0 to 291\n",
      "Data columns (total 4 columns):\n",
      " #   Column      Dtype         \n",
      "---  ------      -----         \n",
      " 0   user_id     int32         \n",
      " 1   track_id    int32         \n",
      " 2   track_seq   int16         \n",
      " 3   started_at  datetime64[ns]\n",
      "dtypes: datetime64[ns](1), int16(1), int32(2)\n",
      "memory usage: 5.4 GB\n"
     ]
    }
   ],
   "source": [
    "interactions.info()"
   ]
  },
  {
   "cell_type": "code",
   "execution_count": 12,
   "id": "50a097b5",
   "metadata": {
    "trusted": false
   },
   "outputs": [
    {
     "data": {
      "text/plain": [
       "1373221"
      ]
     },
     "execution_count": 12,
     "metadata": {},
     "output_type": "execute_result"
    }
   ],
   "source": [
    "interactions['user_id'].nunique()"
   ]
  },
  {
   "cell_type": "code",
   "execution_count": 13,
   "id": "5f60deb3",
   "metadata": {
    "trusted": false
   },
   "outputs": [
    {
     "name": "stdout",
     "output_type": "stream",
     "text": [
      "Пропущенные значения в tracks:\n",
      " track_id    0\n",
      "albums      0\n",
      "artists     0\n",
      "genres      0\n",
      "dtype: int64 \n",
      "\n",
      "Пропущенные значения в catalog_names:\n",
      " id      0\n",
      "type    0\n",
      "name    0\n",
      "dtype: int64 \n",
      "\n",
      "Пропущенные значения в interactions:\n",
      " user_id       0\n",
      "track_id      0\n",
      "track_seq     0\n",
      "started_at    0\n",
      "dtype: int64 \n",
      "\n"
     ]
    }
   ],
   "source": [
    "# Проверка наличия пропущенных значений\n",
    "print(\"Пропущенные значения в tracks:\\n\", tracks.isna().sum(), \"\\n\")\n",
    "print(\"Пропущенные значения в catalog_names:\\n\", catalog_names.isna().sum(), \"\\n\")\n",
    "print(\"Пропущенные значения в interactions:\\n\", interactions.isna().sum(), \"\\n\")"
   ]
  },
  {
   "cell_type": "markdown",
   "id": "5ad15cfe",
   "metadata": {},
   "source": [
    "<div class=\"alert alert-block alert-success\">\n",
    "<h2> Комментарий ревьюера ✔️</h2>\n",
    "    \n",
    "Да, пропусков в данных нет и это отлично)\n",
    "</div>"
   ]
  },
  {
   "cell_type": "code",
   "execution_count": 14,
   "id": "6a88d781",
   "metadata": {
    "trusted": false
   },
   "outputs": [
    {
     "name": "stdout",
     "output_type": "stream",
     "text": [
      "Треков с неизвестными альбомами: 18\n",
      "Треков с неизвестными исполнителями: 15369\n",
      "Треков с неизвестными жанрами: 3687\n"
     ]
    }
   ],
   "source": [
    "def count_unknowns(df, column):\n",
    "    unknown_mask = df[df[column].apply(len) == 0]\n",
    "    return unknown_mask\n",
    "\n",
    "unknown_albums = len(count_unknowns(tracks, 'albums'))\n",
    "unknown_artists = len(count_unknowns(tracks, 'artists'))\n",
    "unknown_genres = len(count_unknowns(tracks, 'genres'))\n",
    "\n",
    "print(f\"Треков с неизвестными альбомами: {unknown_albums}\")\n",
    "print(f\"Треков с неизвестными исполнителями: {unknown_artists}\")\n",
    "print(f\"Треков с неизвестными жанрами: {unknown_genres}\")"
   ]
  },
  {
   "cell_type": "code",
   "execution_count": 15,
   "id": "2aaceed4",
   "metadata": {
    "trusted": false
   },
   "outputs": [
    {
     "name": "stdout",
     "output_type": "stream",
     "text": [
      "Треки с пустыми альбомами: 18\n",
      "Треки с пустыми исполнителями: 15369\n",
      "Треки с пустыми жанрами: 3687\n"
     ]
    }
   ],
   "source": [
    "# Проверка на наличие пустых списков\n",
    "empty_albums = tracks[tracks['albums'].apply(len) == 0]\n",
    "empty_artists = tracks[tracks['artists'].apply(len) == 0]\n",
    "empty_genres = tracks[tracks['genres'].apply(len) == 0]\n",
    "\n",
    "print(f\"Треки с пустыми альбомами: {len(empty_albums)}\")\n",
    "print(f\"Треки с пустыми исполнителями: {len(empty_artists)}\")\n",
    "print(f\"Треки с пустыми жанрами: {len(empty_genres)}\")"
   ]
  },
  {
   "cell_type": "markdown",
   "id": "318b573a-9e2d-4808-95db-60cfb8bbdb73",
   "metadata": {
    "slideshow": {
     "slide_type": ""
    },
    "tags": []
   },
   "source": [
    "# Выводы"
   ]
  },
  {
   "cell_type": "markdown",
   "id": "caa96e12-36a8-4401-8f11-98627a49ae9d",
   "metadata": {},
   "source": [
    "Приведём выводы по первому знакомству с данными:\n",
    "- есть ли с данными явные проблемы,\n",
    "- какие корректирующие действия (в целом) были предприняты."
   ]
  },
  {
   "cell_type": "markdown",
   "id": "c5f0dbfe",
   "metadata": {},
   "source": [
    "В interactions нужно сбросить индекс, так как для каждого пользователя он начинается с 0"
   ]
  },
  {
   "cell_type": "code",
   "execution_count": 16,
   "id": "f58cd010-c2fa-475f-b7e9-767965cd4f55",
   "metadata": {
    "trusted": false
   },
   "outputs": [],
   "source": [
    "interactions = interactions.reset_index(drop=True)"
   ]
  },
  {
   "cell_type": "code",
   "execution_count": 17,
   "id": "9eb65c5c-3c2a-412a-ab7e-30ec9da54fea",
   "metadata": {
    "trusted": false
   },
   "outputs": [
    {
     "name": "stdout",
     "output_type": "stream",
     "text": [
      "<class 'pandas.core.frame.DataFrame'>\n",
      "RangeIndex: 222629898 entries, 0 to 222629897\n",
      "Data columns (total 4 columns):\n",
      " #   Column      Dtype         \n",
      "---  ------      -----         \n",
      " 0   user_id     int32         \n",
      " 1   track_id    int32         \n",
      " 2   track_seq   int16         \n",
      " 3   started_at  datetime64[ns]\n",
      "dtypes: datetime64[ns](1), int16(1), int32(2)\n",
      "memory usage: 3.7 GB\n"
     ]
    }
   ],
   "source": [
    "interactions.info()"
   ]
  },
  {
   "cell_type": "markdown",
   "id": "72eb5918",
   "metadata": {},
   "source": [
    "Проблемы с данными:  \n",
    "Треки с пустыми альбомами: 18  \n",
    "Треки с пустыми исполнителями: 15369  \n",
    "Треки с пустыми жанрами: 3687  "
   ]
  },
  {
   "cell_type": "markdown",
   "id": "5763a368",
   "metadata": {},
   "source": [
    "<div class=\"alert alert-block alert-success\">\n",
    "<h2> Комментарий ревьюера ✔️</h2>\n",
    "    \n",
    "Молодец, что вывел статистику по трекам\n",
    "</div>"
   ]
  },
  {
   "cell_type": "markdown",
   "id": "7bc3296b-eba6-4333-a78d-b9304aa87e3d",
   "metadata": {},
   "source": [
    "# === ЭТАП 2 ==="
   ]
  },
  {
   "cell_type": "markdown",
   "id": "68e73960-fd38-4e15-8db0-9a25c35dfd25",
   "metadata": {},
   "source": [
    "# EDA"
   ]
  },
  {
   "cell_type": "markdown",
   "id": "a30e823e-8e0f-4a76-a02e-8d1ba8bf0f8a",
   "metadata": {},
   "source": [
    "Распределение количества прослушанных треков."
   ]
  },
  {
   "cell_type": "code",
   "execution_count": 18,
   "id": "9bf5eaba-35f7-4da7-be59-9ab4a34b2423",
   "metadata": {
    "trusted": false
   },
   "outputs": [
    {
     "name": "stdout",
     "output_type": "stream",
     "text": [
      "Статистика прослушиваний по пользователям:\n",
      "count    1.373221e+06\n",
      "mean     1.621224e+02\n",
      "std      3.512846e+02\n",
      "min      1.000000e+00\n",
      "25%      2.300000e+01\n",
      "50%      5.500000e+01\n",
      "75%      1.540000e+02\n",
      "max      1.663700e+04\n",
      "Name: listen_count, dtype: float64\n"
     ]
    },
    {
     "data": {
      "image/png": "[encoded data removed]",
      "text/plain": [
       "<Figure size 1000x600 with 1 Axes>"
      ]
     },
     "metadata": {
      "image/png": {
       "height": 546,
       "width": 848
      }
     },
     "output_type": "display_data"
    }
   ],
   "source": [
    "user_listen_counts = interactions.groupby('user_id').size().reset_index(name='listen_count')\n",
    "print(\"Статистика прослушиваний по пользователям:\")\n",
    "print(user_listen_counts['listen_count'].describe())\n",
    "\n",
    "plt.figure(figsize=(10, 6))\n",
    "plt.hist(user_listen_counts['listen_count'], bins=50, edgecolor='black', log=True)\n",
    "plt.title(\"Распределение количества прослушиваний (лог-шкала по оси X)\")\n",
    "plt.xlabel(\"Количество прослушиваний (log)\")\n",
    "plt.ylabel(\"Количество пользователей\")\n",
    "plt.show()"
   ]
  },
  {
   "cell_type": "markdown",
   "id": "3cdae111",
   "metadata": {},
   "source": [
    "<div class=\"alert alert-block alert-success\">\n",
    "<h2> Комментарий ревьюера ✔️</h2>\n",
    "    \n",
    "Молодец, что используешь `.groupby()`. Но часто удобным вариантов для создания сводной таблицы является .pivot_table, так как предоставляет большие возможности по формированию сводной таблицы.\n",
    "    \n",
    "Подробнее про создание сводных таблиц с помощью .pivot_table написано в https://dfedorov.spb.ru/pandas/%D0%A1%D0%B2%D0%BE%D0%B4%D0%BD%D0%B0%D1%8F%20%D1%82%D0%B0%D0%B1%D0%BB%D0%B8%D1%86%D0%B0%20%D0%B2%20pandas.html\n",
    "</div>"
   ]
  },
  {
   "cell_type": "markdown",
   "id": "00008000",
   "metadata": {},
   "source": [
    "<div class=\"alert alert-block alert-success\">\n",
    "<h2> Комментарий ревьюера ✔️</h2>\n",
    "    \n",
    "По части оформления графика все ок - подписи по осям есть и здорово, что добавил заголовок к графику.\n",
    "</div>"
   ]
  },
  {
   "cell_type": "code",
   "execution_count": 19,
   "id": "b329086d",
   "metadata": {},
   "outputs": [
    {
     "data": {
      "image/png": "[encoded data removed]",
      "text/plain": [
       "<Figure size 1500x600 with 1 Axes>"
      ]
     },
     "metadata": {
      "image/png": {
       "height": 588,
       "width": 1489
      }
     },
     "output_type": "display_data"
    }
   ],
   "source": [
    "# Подсчет количества прослушиваний для каждого пользователя\n",
    "user_listen_counts = interactions.groupby('user_id').size().reset_index(name='listen_count')\n",
    "\n",
    "\n",
    "plt.figure(figsize=(15, 6))\n",
    "\n",
    "sns.boxplot(x=user_listen_counts['listen_count'])\n",
    "plt.title(\"Boxplot распределения прослушиваний\")\n",
    "plt.xlabel(\"Количество прослушиваний\")\n",
    "\n",
    "plt.tight_layout()\n",
    "plt.show()"
   ]
  },
  {
   "cell_type": "code",
   "execution_count": 20,
   "id": "770c7891",
   "metadata": {},
   "outputs": [
    {
     "name": "stdout",
     "output_type": "stream",
     "text": [
      "\n",
      "Коэффициент асимметрии (skewness): 8.56\n",
      "Коэффициент эксцесса (kurtosis): 136.82\n",
      "\n",
      "Количество выбросов: 154853\n",
      "Доля выбросов: 11.28%\n",
      "\n",
      "Тест на нормальность распределения (p-value): 0.0000\n"
     ]
    }
   ],
   "source": [
    "# Анализ распределения\n",
    "# Коэффициент асимметрии (skewness)\n",
    "skewness = user_listen_counts['listen_count'].skew()\n",
    "print(f\"\\nКоэффициент асимметрии (skewness): {skewness:.2f}\")\n",
    "\n",
    "# Коэффициент эксцесса (kurtosis)\n",
    "kurtosis = user_listen_counts['listen_count'].kurtosis()\n",
    "print(f\"Коэффициент эксцесса (kurtosis): {kurtosis:.2f}\")\n",
    "\n",
    "# Определение выбросов по методу межквартильного размаха (IQR)\n",
    "Q1 = user_listen_counts['listen_count'].quantile(0.25)\n",
    "Q3 = user_listen_counts['listen_count'].quantile(0.75)\n",
    "IQR = Q3 - Q1\n",
    "lower_bound = Q1 - 1.5 * IQR\n",
    "upper_bound = Q3 + 1.5 * IQR\n",
    "\n",
    "# Подсчет выбросов\n",
    "outliers = user_listen_counts[(user_listen_counts['listen_count'] < lower_bound) | \n",
    "                               (user_listen_counts['listen_count'] > upper_bound)]\n",
    "print(f\"\\nКоличество выбросов: {len(outliers)}\")\n",
    "print(f\"Доля выбросов: {len(outliers) / len(user_listen_counts) * 100:.2f}%\")\n",
    "\n",
    "# Проверка на нормальность распределения\n",
    "_, p_value = stats.normaltest(user_listen_counts['listen_count'])\n",
    "print(f\"\\nТест на нормальность распределения (p-value): {p_value:.4f}\")"
   ]
  },
  {
   "cell_type": "markdown",
   "id": "fc05dfc1",
   "metadata": {},
   "source": [
    "Анализ распределения прослушиваний пользователей  \n",
    "Ключевые характеристики  \n",
    "\n",
    "Среднее: 162 прослушивания  \n",
    "Медиана: 55 прослушиваний  \n",
    "Максимум: 16,637 прослушиваний  \n",
    "\n",
    "Особенности распределения  \n",
    "\n",
    "Асимметрия (skewness = 8.56): Сильное смещение вправо  \n",
    "Эксцесс (kurtosis = 136.82): Очень заостренное распределение  \n",
    "Выбросы: 154,853 пользователя (11.28% от общего числа)  \n",
    "\n",
    "Основной вывод  \n",
    "Распределение прослушиваний крайне неоднородное. Большинство пользователей имеют низкую активность, при этом существует небольшая группа с extremely высоким числом прослушиваний."
   ]
  },
  {
   "cell_type": "markdown",
   "id": "96e152a9",
   "metadata": {},
   "source": [
    "<div class=\"alert alert-block alert-warning\">\n",
    "<h2> Комментарий ревьюера ⚠️</h2>\n",
    "    \n",
    "Ты построил отличную гистограмму распределения, но её нужно проанализировать. Анализ графиков и формулировка выводов это важная часть работы. Для распределений можно проанализировать тип распределения, наличие “хвостов”, “скошенность” распределения и т. д.\n",
    "\n",
    "Помимо, этого было бы здорово добавить \"ящики с усами\". Для “ящиков с усами” имеет смысл проанализировать границы выбросов и есть ли аномальные значений в данных.\n",
    "\n",
    "Дополнительные материалы по “ящикам с усами”: https://builtin.com/data-science/boxplot\n",
    "\n",
    "Подробнее про типы распределений можно посмотреть: https://machinelearningmastery.com/statistical-data-distributions/\n",
    "</div>"
   ]
  },
  {
   "cell_type": "markdown",
   "id": "d765519a-18dd-4d30-9e29-cc2d84cacd79",
   "metadata": {},
   "source": [
    "Наиболее популярные треки"
   ]
  },
  {
   "cell_type": "code",
   "execution_count": 21,
   "id": "aecaf630-fde0-4860-b84a-42c933a9606e",
   "metadata": {
    "trusted": false
   },
   "outputs": [
    {
     "name": "stdout",
     "output_type": "stream",
     "text": [
      "Наиболее популярные треки:\n",
      "        track_id  play_count\n",
      "9098       53404      111062\n",
      "483876  33311009      106921\n",
      "26665     178529      101924\n",
      "512157  35505245       99490\n",
      "829320  65851540       86670\n",
      "368072  24692821       86246\n",
      "475289  32947997       85886\n",
      "696106  51241318       85244\n",
      "90461     795836       85042\n",
      "647237  45499814       84748\n"
     ]
    }
   ],
   "source": [
    "track_counts = interactions.groupby('track_id').size().reset_index(name='play_count')\n",
    "popular_tracks = track_counts.sort_values(by='play_count', ascending=False).head(10)\n",
    "print(\"Наиболее популярные треки:\")\n",
    "print(popular_tracks)"
   ]
  },
  {
   "cell_type": "markdown",
   "id": "c1422e26",
   "metadata": {},
   "source": [
    "<div class=\"alert alert-block alert-success\">\n",
    "<h2> Комментарий ревьюера ✔️</h2>\n",
    "    \n",
    "Групировка данных и расчёт популярности треков выполнены верно и молодец, что отсортировал треки в порядке уменьшения их популярности.\n",
    "</div>"
   ]
  },
  {
   "cell_type": "code",
   "execution_count": 22,
   "id": "48f9b1eb",
   "metadata": {
    "trusted": false
   },
   "outputs": [
    {
     "data": {
      "image/png": "[encoded data removed]",
      "text/plain": [
       "<Figure size 1000x600 with 1 Axes>"
      ]
     },
     "metadata": {
      "image/png": {
       "height": 547,
       "width": 979
      }
     },
     "output_type": "display_data"
    }
   ],
   "source": [
    "tracks_info = catalog_names.query(\"type == 'track'\").rename(columns={'id': 'track_id', 'name': 'track_name'})\n",
    "popular_tracks_named = popular_tracks.merge(tracks_info[['track_id', 'track_name']], on='track_id', how='left')\n",
    "popular_tracks_named['track_name'] = popular_tracks_named['track_name'].fillna(\"Unknown\")\n",
    "\n",
    "plt.figure(figsize=(10, 6))\n",
    "sns.barplot(data=popular_tracks_named, x='play_count', y='track_name', edgecolor='black')\n",
    "plt.title(\"Наиболее популярные треки\")\n",
    "plt.xlabel(\"Число прослушиваний\")\n",
    "plt.ylabel(\"Название трека\")\n",
    "plt.show()"
   ]
  },
  {
   "cell_type": "markdown",
   "id": "7fe8a0be",
   "metadata": {},
   "source": [
    "<div class=\"alert alert-block alert-warning\">\n",
    "<h2> Комментарий ревьюера ⚠️</h2>\n",
    "    \n",
    "Вывод warnings можно убрать с помощью:\n",
    "\n",
    "import warnings\n",
    "\n",
    "warnings.filterwarnings(\"ignore\")\n",
    "</div>"
   ]
  },
  {
   "cell_type": "markdown",
   "id": "b1c32a5a-d3be-4f96-8dd9-f7860951020c",
   "metadata": {},
   "source": [
    "Наиболее популярные жанры"
   ]
  },
  {
   "cell_type": "code",
   "execution_count": 23,
   "id": "1bc50491-9235-4d3c-a6c2-297f7c05a959",
   "metadata": {
    "trusted": false
   },
   "outputs": [
    {
     "name": "stdout",
     "output_type": "stream",
     "text": [
      "Наиболее популярные жанры:\n",
      "    genres   genre_name  play_count\n",
      "11      11          pop    55578312\n",
      "144     75          rap    37799821\n",
      "4      102      allrock    31092013\n",
      "72      20       ruspop    26626241\n",
      "84       3       rusrap    25303695\n",
      "133     68  electronics    20120981\n",
      "56      16        dance    16291557\n",
      "71       2      rusrock    13166147\n",
      "40      14         rock    12772644\n",
      "108     47        metal    12437375\n"
     ]
    }
   ],
   "source": [
    "# Группировка interactions по track_id, считаем прослушивания\n",
    "track_plays = interactions.groupby('track_id').size().reset_index(name='play_count')\n",
    "\n",
    "# Объединение с таблицей треков и заменяем пропуски в play_count на 0\n",
    "tracks_merged = tracks.merge(track_plays, on='track_id', how='left').fillna({'play_count': 0})\n",
    "\n",
    "# Разворачиваем genres\n",
    "tracks_exploded = tracks_merged.explode('genres').dropna(subset=['genres'])\n",
    "tracks_exploded['genres'] = tracks_exploded['genres'].astype(str)  # Оставляем как str\n",
    "\n",
    "# Добавляем названия жанров из catalog_names\n",
    "genre_names = catalog_names.query(\"type == 'genre'\")[['id', 'name']].rename(columns={'id': 'genres', 'name': 'genre_name'})\n",
    "genre_names['genres'] = genre_names['genres'].astype(str)\n",
    "\n",
    "# Подсчёт прослушиваний по жанрам и объединение с названиями\n",
    "genre_counts_named = (\n",
    "    tracks_exploded\n",
    "    .groupby('genres')['play_count'].sum().reset_index()\n",
    "    .merge(genre_names, on='genres', how='left')\n",
    ")\n",
    "\n",
    "# Топ-10 жанров\n",
    "popular_genres = genre_counts_named.sort_values(by='play_count', ascending=False).head(10)\n",
    "\n",
    "print(\"Наиболее популярные жанры:\")\n",
    "print(popular_genres[['genres', 'genre_name', 'play_count']])"
   ]
  },
  {
   "cell_type": "markdown",
   "id": "05785ff1",
   "metadata": {},
   "source": [
    "<div class=\"alert alert-block alert-warning\">\n",
    "<h2> Комментарий ревьюера ⚠️</h2>\n",
    "    \n",
    "Да, пропуски в столбце `play_count` можно заменить на 0. Но было бы здорово это прокоммментировать.\n",
    "</div>"
   ]
  },
  {
   "cell_type": "markdown",
   "id": "15254e66-e80e-473b-ba24-abebea5ccac7",
   "metadata": {},
   "source": [
    "Треки, которые никто не прослушал"
   ]
  },
  {
   "cell_type": "code",
   "execution_count": 24,
   "id": "50bc50c6-2d83-4c7e-97fa-3e7627978438",
   "metadata": {
    "trusted": false
   },
   "outputs": [
    {
     "name": "stdout",
     "output_type": "stream",
     "text": [
      "Количество непрослушенных треков: 0\n"
     ]
    }
   ],
   "source": [
    "unheard_tracks = tracks[~tracks['track_id'].isin(interactions['track_id'])]\n",
    "print(f\"Количество непрослушенных треков: {len(unheard_tracks)}\")"
   ]
  },
  {
   "cell_type": "markdown",
   "id": "d31c08c2",
   "metadata": {},
   "source": [
    "<div class=\"alert alert-block alert-success\">\n",
    "<h2> Комментарий ревьюера ✔️</h2>\n",
    "    \n",
    "Да, верно, треков которые никто не прослушивал нет, что вполне логично:)\n",
    "</div>"
   ]
  },
  {
   "cell_type": "markdown",
   "id": "0d850a07-ef1e-462f-891a-1cf89f2e24ef",
   "metadata": {},
   "source": [
    "# Преобразование данных"
   ]
  },
  {
   "cell_type": "markdown",
   "id": "fabcf8d2-1192-4df5-b20b-fbb84689f57a",
   "metadata": {},
   "source": [
    "Преобразуем данные в формат, более пригодный для дальнейшего использования в расчётах рекомендаций."
   ]
  },
  {
   "cell_type": "code",
   "execution_count": 25,
   "id": "a425556a-9382-45ca-a04e-f1981a522126",
   "metadata": {
    "trusted": false
   },
   "outputs": [],
   "source": [
    "# Копирование исходных данных с новыми именами\n",
    "items = tracks.copy()\n",
    "events = interactions.copy()\n",
    "\n",
    "# Оставляем только пользователей с >=2 событиями\n",
    "user_counts = events.groupby('user_id').size()\n",
    "valid_users = user_counts[user_counts >= 2].index\n",
    "events = events[events['user_id'].isin(valid_users)].copy()\n",
    "\n",
    "# Оставляем топ-25 треков для каждого юзера\n",
    "events = events.query(\"track_seq <= 25\")\n",
    "\n",
    "# названия треков из catalog_names\n",
    "track_names = (\n",
    "    catalog_names\n",
    "    .query(\"type == 'track'\")[['id', 'name']]\n",
    "    .rename(columns={'id': 'track_id', 'name': 'track_name'})\n",
    ")\n",
    "items = items.merge(track_names, on='track_id', how='left')\n",
    "items['track_name'] = items['track_name'].fillna(\"Unknown\")"
   ]
  },
  {
   "cell_type": "markdown",
   "id": "18cd87da",
   "metadata": {},
   "source": [
    "<div class=\"alert alert-block alert-success\">\n",
    "<h2> Комментарий ревьюера ✔️</h2>\n",
    "    \n",
    "Да, метод `.query()` удобный инструмент для фильтрации данных. 👍👍👍\n",
    "    \n",
    "Дополнителньо можно посмотреть: https://medium.com/@Bloomore/tips-and-trick-for-pandas-querying-eccdd84215e6\n",
    "</div>"
   ]
  },
  {
   "cell_type": "code",
   "execution_count": 26,
   "id": "16d8f72b",
   "metadata": {
    "trusted": false
   },
   "outputs": [
    {
     "data": {
      "application/vnd.microsoft.datawrangler.viewer.v0+json": {
       "columns": [
        {
         "name": "index",
         "rawType": "int64",
         "type": "integer"
        },
        {
         "name": "user_id",
         "rawType": "int32",
         "type": "integer"
        },
        {
         "name": "track_id",
         "rawType": "int32",
         "type": "integer"
        },
        {
         "name": "track_seq",
         "rawType": "int16",
         "type": "integer"
        },
        {
         "name": "started_at",
         "rawType": "datetime64[ns]",
         "type": "datetime"
        }
       ],
       "conversionMethod": "pd.DataFrame",
       "ref": "b5f7d12f-2254-4fdc-b088-d08240114185",
       "rows": [
        [
         "0",
         "0",
         "99262",
         "1",
         "2022-07-17 00:00:00"
        ],
        [
         "1",
         "0",
         "589498",
         "2",
         "2022-07-19 00:00:00"
        ],
        [
         "2",
         "0",
         "590262",
         "3",
         "2022-07-21 00:00:00"
        ],
        [
         "3",
         "0",
         "590303",
         "4",
         "2022-07-22 00:00:00"
        ],
        [
         "4",
         "0",
         "590692",
         "5",
         "2022-07-22 00:00:00"
        ]
       ],
       "shape": {
        "columns": 4,
        "rows": 5
       }
      },
      "text/html": [
       "<div>\n",
       "<style scoped>\n",
       "    .dataframe tbody tr th:only-of-type {\n",
       "        vertical-align: middle;\n",
       "    }\n",
       "\n",
       "    .dataframe tbody tr th {\n",
       "        vertical-align: top;\n",
       "    }\n",
       "\n",
       "    .dataframe thead th {\n",
       "        text-align: right;\n",
       "    }\n",
       "</style>\n",
       "<table border=\"1\" class=\"dataframe\">\n",
       "  <thead>\n",
       "    <tr style=\"text-align: right;\">\n",
       "      <th></th>\n",
       "      <th>user_id</th>\n",
       "      <th>track_id</th>\n",
       "      <th>track_seq</th>\n",
       "      <th>started_at</th>\n",
       "    </tr>\n",
       "  </thead>\n",
       "  <tbody>\n",
       "    <tr>\n",
       "      <th>0</th>\n",
       "      <td>0</td>\n",
       "      <td>99262</td>\n",
       "      <td>1</td>\n",
       "      <td>2022-07-17</td>\n",
       "    </tr>\n",
       "    <tr>\n",
       "      <th>1</th>\n",
       "      <td>0</td>\n",
       "      <td>589498</td>\n",
       "      <td>2</td>\n",
       "      <td>2022-07-19</td>\n",
       "    </tr>\n",
       "    <tr>\n",
       "      <th>2</th>\n",
       "      <td>0</td>\n",
       "      <td>590262</td>\n",
       "      <td>3</td>\n",
       "      <td>2022-07-21</td>\n",
       "    </tr>\n",
       "    <tr>\n",
       "      <th>3</th>\n",
       "      <td>0</td>\n",
       "      <td>590303</td>\n",
       "      <td>4</td>\n",
       "      <td>2022-07-22</td>\n",
       "    </tr>\n",
       "    <tr>\n",
       "      <th>4</th>\n",
       "      <td>0</td>\n",
       "      <td>590692</td>\n",
       "      <td>5</td>\n",
       "      <td>2022-07-22</td>\n",
       "    </tr>\n",
       "  </tbody>\n",
       "</table>\n",
       "</div>"
      ],
      "text/plain": [
       "   user_id  track_id  track_seq started_at\n",
       "0        0     99262          1 2022-07-17\n",
       "1        0    589498          2 2022-07-19\n",
       "2        0    590262          3 2022-07-21\n",
       "3        0    590303          4 2022-07-22\n",
       "4        0    590692          5 2022-07-22"
      ]
     },
     "execution_count": 26,
     "metadata": {},
     "output_type": "execute_result"
    }
   ],
   "source": [
    "events.head()"
   ]
  },
  {
   "cell_type": "code",
   "execution_count": 27,
   "id": "09cb59e5",
   "metadata": {
    "trusted": false
   },
   "outputs": [
    {
     "data": {
      "application/vnd.microsoft.datawrangler.viewer.v0+json": {
       "columns": [
        {
         "name": "index",
         "rawType": "int64",
         "type": "integer"
        },
        {
         "name": "track_id",
         "rawType": "int64",
         "type": "integer"
        },
        {
         "name": "albums",
         "rawType": "object",
         "type": "unknown"
        },
        {
         "name": "artists",
         "rawType": "object",
         "type": "unknown"
        },
        {
         "name": "genres",
         "rawType": "object",
         "type": "unknown"
        },
        {
         "name": "track_name",
         "rawType": "object",
         "type": "string"
        }
       ],
       "conversionMethod": "pd.DataFrame",
       "ref": "af903a5b-b1a0-4b14-a2e4-ae5f69047e8a",
       "rows": [
        [
         "0",
         "26",
         "[      3 2490753]",
         "[16]",
         "[11 21]",
         "Complimentary Me"
        ],
        [
         "1",
         "38",
         "[      3 2490753]",
         "[16]",
         "[11 21]",
         "Momma's Boy"
        ],
        [
         "2",
         "135",
         "[     12     214 2490809]",
         "[84]",
         "[11]",
         "Atticus"
        ],
        [
         "3",
         "136",
         "[     12     214 2490809]",
         "[84]",
         "[11]",
         "24 Hours"
        ],
        [
         "4",
         "138",
         "[      12      214      322    72275    72292    91199   213505  2490809\n  6007655 17294156]",
         "[84]",
         "[11]",
         "Don't Upset The Rhythm (Go Baby Go)"
        ]
       ],
       "shape": {
        "columns": 5,
        "rows": 5
       }
      },
      "text/html": [
       "<div>\n",
       "<style scoped>\n",
       "    .dataframe tbody tr th:only-of-type {\n",
       "        vertical-align: middle;\n",
       "    }\n",
       "\n",
       "    .dataframe tbody tr th {\n",
       "        vertical-align: top;\n",
       "    }\n",
       "\n",
       "    .dataframe thead th {\n",
       "        text-align: right;\n",
       "    }\n",
       "</style>\n",
       "<table border=\"1\" class=\"dataframe\">\n",
       "  <thead>\n",
       "    <tr style=\"text-align: right;\">\n",
       "      <th></th>\n",
       "      <th>track_id</th>\n",
       "      <th>albums</th>\n",
       "      <th>artists</th>\n",
       "      <th>genres</th>\n",
       "      <th>track_name</th>\n",
       "    </tr>\n",
       "  </thead>\n",
       "  <tbody>\n",
       "    <tr>\n",
       "      <th>0</th>\n",
       "      <td>26</td>\n",
       "      <td>[3, 2490753]</td>\n",
       "      <td>[16]</td>\n",
       "      <td>[11, 21]</td>\n",
       "      <td>Complimentary Me</td>\n",
       "    </tr>\n",
       "    <tr>\n",
       "      <th>1</th>\n",
       "      <td>38</td>\n",
       "      <td>[3, 2490753]</td>\n",
       "      <td>[16]</td>\n",
       "      <td>[11, 21]</td>\n",
       "      <td>Momma's Boy</td>\n",
       "    </tr>\n",
       "    <tr>\n",
       "      <th>2</th>\n",
       "      <td>135</td>\n",
       "      <td>[12, 214, 2490809]</td>\n",
       "      <td>[84]</td>\n",
       "      <td>[11]</td>\n",
       "      <td>Atticus</td>\n",
       "    </tr>\n",
       "    <tr>\n",
       "      <th>3</th>\n",
       "      <td>136</td>\n",
       "      <td>[12, 214, 2490809]</td>\n",
       "      <td>[84]</td>\n",
       "      <td>[11]</td>\n",
       "      <td>24 Hours</td>\n",
       "    </tr>\n",
       "    <tr>\n",
       "      <th>4</th>\n",
       "      <td>138</td>\n",
       "      <td>[12, 214, 322, 72275, 72292, 91199, 213505, 24...</td>\n",
       "      <td>[84]</td>\n",
       "      <td>[11]</td>\n",
       "      <td>Don't Upset The Rhythm (Go Baby Go)</td>\n",
       "    </tr>\n",
       "  </tbody>\n",
       "</table>\n",
       "</div>"
      ],
      "text/plain": [
       "   track_id                                             albums artists  \\\n",
       "0        26                                       [3, 2490753]    [16]   \n",
       "1        38                                       [3, 2490753]    [16]   \n",
       "2       135                                 [12, 214, 2490809]    [84]   \n",
       "3       136                                 [12, 214, 2490809]    [84]   \n",
       "4       138  [12, 214, 322, 72275, 72292, 91199, 213505, 24...    [84]   \n",
       "\n",
       "     genres                           track_name  \n",
       "0  [11, 21]                     Complimentary Me  \n",
       "1  [11, 21]                          Momma's Boy  \n",
       "2      [11]                              Atticus  \n",
       "3      [11]                             24 Hours  \n",
       "4      [11]  Don't Upset The Rhythm (Go Baby Go)  "
      ]
     },
     "execution_count": 27,
     "metadata": {},
     "output_type": "execute_result"
    }
   ],
   "source": [
    "items.head()"
   ]
  },
  {
   "cell_type": "markdown",
   "id": "70be8fbc",
   "metadata": {},
   "source": [
    "<div class=\"alert alert-block alert-warning\">\n",
    "<h2> Комментарий ревьюера ⚠️</h2>\n",
    "    \n",
    "    \n",
    "Да, объединение данных выполнено верно и молодец, что проверил корректность соединения данных. Но для проверки правильности соединения данных достаточно вывестинесколько первых, последних или случайно выбранных строк. Вывод всех строк датафрейма сильно загромождает вывод данных и перегружает ядро ноутбука.\n",
    "</div>"
   ]
  },
  {
   "cell_type": "markdown",
   "id": "4d1be653-eed8-4fa0-a9c5-3811b080d71d",
   "metadata": {},
   "source": [
    "# Сохранение данных"
   ]
  },
  {
   "cell_type": "markdown",
   "id": "36f1314a-3af3-4faf-a0b1-3045173d1500",
   "metadata": {},
   "source": [
    "Сохраним данные в двух файлах в персональном S3-бакете по пути `recsys/data/`:\n",
    "- `items.parquet` — все данные о музыкальных треках,\n",
    "- `events.parquet` — все данные о взаимодействиях."
   ]
  },
  {
   "cell_type": "code",
   "execution_count": 28,
   "id": "9f77af17-7705-4fae-9aad-db579b39faad",
   "metadata": {
    "trusted": false
   },
   "outputs": [],
   "source": [
    "items.to_parquet('items.parquet')\n",
    "events.to_parquet('events.parquet')"
   ]
  },
  {
   "cell_type": "code",
   "execution_count": 29,
   "id": "91ea3bf3",
   "metadata": {
    "trusted": false
   },
   "outputs": [],
   "source": [
    "load_dotenv(override=True)\n",
    "\n",
    "S3_BUCKET_NAME = os.getenv(\"S3_BUCKET_NAME\")\n",
    "AWS_ACCESS_KEY_ID = os.getenv(\"AWS_ACCESS_KEY_ID\")\n",
    "AWS_SECRET_ACCESS_KEY = os.getenv(\"AWS_SECRET_ACCESS_KEY\")\n",
    "\n",
    "S3_ENDPOINT_URL = \"https://storage.yandexcloud.net\"\n",
    "\n",
    "creds = {\n",
    "    \"key\": AWS_ACCESS_KEY_ID,\n",
    "    \"secret\": AWS_SECRET_ACCESS_KEY,\n",
    "    \"endpoint_url\": S3_ENDPOINT_URL\n",
    "}\n",
    "\n",
    "s3_items_path = f\"s3://{S3_BUCKET_NAME}/recsys/data/items.parquet\"\n",
    "s3_events_path = f\"s3://{S3_BUCKET_NAME}/recsys/data/events.parquet\"\n",
    "\n",
    "items.to_parquet(s3_items_path, index=False, storage_options=creds)\n",
    "events.to_parquet(s3_events_path, index=False, storage_options=creds)"
   ]
  },
  {
   "cell_type": "markdown",
   "id": "d6f03076",
   "metadata": {},
   "source": [
    "<div class=\"alert alert-block alert-success\">\n",
    "<h2> Комментарий ревьюера ✔️</h2>\n",
    "    \n",
    "Отлично, запись данных выполнена и молодец, что указал параметр `index=False` при записи данных. Это позволи избежать записи индекса как отдельного столбца.\n",
    "</div>"
   ]
  },
  {
   "cell_type": "markdown",
   "id": "72ecbbed-c560-44d9-9c14-86c7dc76f399",
   "metadata": {},
   "source": [
    "# Очистка памяти"
   ]
  },
  {
   "cell_type": "markdown",
   "id": "b5358ede-ba6e-4c4f-bd73-5b9344f0ba79",
   "metadata": {},
   "source": [
    "Здесь, может понадобится очистка памяти для высвобождения ресурсов для выполнения кода ниже. \n",
    "\n",
    "Приведите соответствующие код, комментарии, например:\n",
    "- код для удаление более ненужных переменных,\n",
    "- комментарий, что следует перезапустить kernel, выполнить такие-то начальные секции и продолжить с этапа 3."
   ]
  },
  {
   "cell_type": "code",
   "execution_count": 30,
   "id": "767fe920-e12e-4ad8-b04e-56e8091fac9f",
   "metadata": {
    "trusted": false
   },
   "outputs": [
    {
     "name": "stdout",
     "output_type": "stream",
     "text": [
      "Память очищена. Если наблюдаются проблемы с ресурсами, рекомендуется перезапустить kernel.\n"
     ]
    }
   ],
   "source": [
    "# Удаление ненужных переменных, если они существуют\n",
    "for var_name in ['interactions', 'catalog_names', 'tracks']:\n",
    "    if var_name in globals():\n",
    "        del globals()[var_name]\n",
    "\n",
    "# Принудительная сборка мусора\n",
    "import gc\n",
    "gc.collect()\n",
    "\n",
    "print(\"Память очищена. Если наблюдаются проблемы с ресурсами, рекомендуется перезапустить kernel.\")"
   ]
  },
  {
   "cell_type": "markdown",
   "id": "790b524c",
   "metadata": {},
   "source": [
    "<div class=\"alert alert-block alert-success\">\n",
    "<h2> Комментарий ревьюера ✔️</h2>\n",
    "    \n",
    "Да, очистку оперативной памяти нужно выполнить 👍👍👍\n",
    "</div>"
   ]
  },
  {
   "cell_type": "markdown",
   "id": "21ca949c",
   "metadata": {},
   "source": [
    "<div class=\"alert alert-block alert-danger\">\n",
    "<h2> Комментарий ревьюера ❌</h2>\n",
    "    \n",
    "К сожалению, в коде возникла ошибка и это нужно исправить. После этого я смогу продолжить проверку проекта.\n",
    "</div>"
   ]
  },
  {
   "cell_type": "markdown",
   "id": "708503df-ee89-4cf3-8489-093dc478e2a8",
   "metadata": {},
   "source": [
    "# === ЭТАП 3 ==="
   ]
  },
  {
   "cell_type": "markdown",
   "id": "fd77de22-e10f-4b42-85c1-8fb6f805fe68",
   "metadata": {},
   "source": [
    "# Загрузка данных"
   ]
  },
  {
   "cell_type": "markdown",
   "id": "780a4241-1ecd-4a3e-bbb3-fc2f6ca94f68",
   "metadata": {},
   "source": [
    "Если необходимо, то загружаем items.parquet, events.parquet."
   ]
  },
  {
   "cell_type": "code",
   "execution_count": 31,
   "id": "f19fc8a5-bd2c-40d7-864a-ee75aca6d512",
   "metadata": {
    "trusted": false
   },
   "outputs": [
    {
     "name": "stdout",
     "output_type": "stream",
     "text": [
      "Данные уже загружены в среду.\n"
     ]
    }
   ],
   "source": [
    "load_dotenv()\n",
    "\n",
    "S3_BUCKET_NAME = os.getenv(\"S3_BUCKET_NAME\")\n",
    "AWS_ACCESS_KEY_ID = os.getenv(\"AWS_ACCESS_KEY_ID\")\n",
    "AWS_SECRET_ACCESS_KEY = os.getenv(\"AWS_SECRET_ACCESS_KEY\")\n",
    "\n",
    "S3_ENDPOINT_URL = \"https://storage.yandexcloud.net\"\n",
    "\n",
    "creds = {\n",
    "    \"key\": AWS_ACCESS_KEY_ID,\n",
    "    \"secret\": AWS_SECRET_ACCESS_KEY,\n",
    "    \"endpoint_url\": S3_ENDPOINT_URL\n",
    "}\n",
    "\n",
    "s3_items_path = f\"s3://{S3_BUCKET_NAME}/recsys/data/items.parquet\"\n",
    "s3_events_path = f\"s3://{S3_BUCKET_NAME}/recsys/data/events.parquet\"\n",
    "\n",
    "try:\n",
    "    # Проверяем есть ли данные в системе\n",
    "    items\n",
    "    events\n",
    "    print(\"Данные уже загружены в среду.\")\n",
    "except (NameError, UnboundLocalError):\n",
    "    # Если нет, то грузим из S3\n",
    "    print(\"Загрузка items с S3...\")\n",
    "    items = pd.read_parquet(s3_items_path, storage_options=creds)\n",
    "    events = pd.read_parquet(s3_events_path, storage_options=creds)"
   ]
  },
  {
   "cell_type": "markdown",
   "id": "a694c023-6477-490b-939d-1cfa6f5f1b72",
   "metadata": {},
   "source": [
    "# Разбиение данных"
   ]
  },
  {
   "cell_type": "markdown",
   "id": "fbd5f6e0-54e7-4428-8678-eabce505d82c",
   "metadata": {},
   "source": [
    "Разбиваем данные на тренировочную, тестовую выборки."
   ]
  },
  {
   "cell_type": "code",
   "execution_count": 32,
   "id": "00c2dfa5-d8a2-47d1-922e-6eefee2c62d1",
   "metadata": {
    "trusted": false
   },
   "outputs": [],
   "source": [
    "# Разделяем по дате: 2022-12-16\n",
    "train_test_global_time_split_date = pd.to_datetime(\"2022-12-16\")"
   ]
  },
  {
   "cell_type": "code",
   "execution_count": 33,
   "id": "26fe3e3c-8c5f-4437-bf13-9191adef08bb",
   "metadata": {
    "trusted": false
   },
   "outputs": [],
   "source": [
    "train_test_global_time_split_idx = events[\"started_at\"] < train_test_global_time_split_date\n",
    "events_train = events[train_test_global_time_split_idx]\n",
    "events_test = events[~train_test_global_time_split_idx]"
   ]
  },
  {
   "cell_type": "code",
   "execution_count": 34,
   "id": "86c524a0",
   "metadata": {
    "trusted": false
   },
   "outputs": [],
   "source": [
    "# количество пользователей в train и test\n",
    "users_train = events_train[\"user_id\"].unique()\n",
    "users_test = events_test[\"user_id\"].unique()\n",
    "# количество пользователей, которые есть и в train, и в test\n",
    "common_users = set(users_train) & set(users_test)"
   ]
  },
  {
   "cell_type": "code",
   "execution_count": 35,
   "id": "a4221635",
   "metadata": {
    "trusted": false
   },
   "outputs": [
    {
     "name": "stdout",
     "output_type": "stream",
     "text": [
      "1341756 270687 240071\n"
     ]
    }
   ],
   "source": [
    "print(len(users_train), len(users_test), len(common_users)) "
   ]
  },
  {
   "cell_type": "code",
   "execution_count": 36,
   "id": "6df0dfb3",
   "metadata": {
    "trusted": false
   },
   "outputs": [
    {
     "name": "stdout",
     "output_type": "stream",
     "text": [
      "Количество 'холодных' пользователей:  30616\n"
     ]
    }
   ],
   "source": [
    "# Предположим, users_test и users_train - это numpy.ndarray\n",
    "users_test = pd.Series(users_test)\n",
    "users_train = pd.Series(users_train)\n",
    "\n",
    "# Теперь можно использовать isin\n",
    "cold_users = users_test[~users_test.isin(users_train)]\n",
    "print(\"Количество 'холодных' пользователей: \", len(cold_users))"
   ]
  },
  {
   "cell_type": "markdown",
   "id": "9131c7e6-8852-4556-b510-51f7253cc299",
   "metadata": {},
   "source": [
    "# Топ популярных"
   ]
  },
  {
   "cell_type": "markdown",
   "id": "dd70d43a-88cc-4719-b291-feaed7136f30",
   "metadata": {},
   "source": [
    "Рассчитаем рекомендации как топ популярных."
   ]
  },
  {
   "cell_type": "code",
   "execution_count": 37,
   "id": "7193b87f",
   "metadata": {
    "trusted": false
   },
   "outputs": [],
   "source": [
    "top_pop_start_date = pd.to_datetime(\"2020-01-01\").date()"
   ]
  },
  {
   "cell_type": "code",
   "execution_count": 38,
   "id": "ee45e200-b7d6-4f56-9077-aad431689b96",
   "metadata": {
    "trusted": false
   },
   "outputs": [],
   "source": [
    "# Будем брать популярные с 2020-01-01\n",
    "item_popularity = events_train \\\n",
    "    .query(\"started_at >= @top_pop_start_date\") \\\n",
    "    .groupby([\"track_id\"]).agg(user_id=(\"user_id\", \"nunique\"), avg_track_seq=(\"track_seq\", \"mean\")).reset_index()"
   ]
  },
  {
   "cell_type": "code",
   "execution_count": 39,
   "id": "7690c86f-7aa9-46ed-bba5-2c837626411e",
   "metadata": {
    "trusted": false
   },
   "outputs": [],
   "source": [
    "scaler = MinMaxScaler()\n",
    "item_popularity[[\"users_norm\", \"avg_track_seq_norm\"]] = scaler.fit_transform(\n",
    "    item_popularity[[\"user_id\", \"avg_track_seq\"]]\n",
    ")\n",
    "\n",
    "# вычисляем track_seq, как скор популярности со штрафом за низкий рейтинг\n",
    "item_popularity[\"track_seq\"] = (\n",
    "    item_popularity[\"users_norm\"] * item_popularity[\"avg_track_seq_norm\"]\n",
    ")\n",
    "\n",
    "# сортируем по убыванию track_seq\n",
    "item_popularity = item_popularity.sort_values(\"track_seq\", ascending=False)\n",
    "\n",
    "# выбираем первые 100 айтемов со средней оценкой avg_track_seq\n",
    "top_k_pop_items = item_popularity.head(100)\n",
    "\n",
    "# добавляем информацию о треках\n",
    "top_k_pop_items = top_k_pop_items.merge(\n",
    "    items.set_index(\"track_id\")[[\"albums\", \"artists\", \"genres\"]], on=\"track_id\")"
   ]
  },
  {
   "cell_type": "code",
   "execution_count": 40,
   "id": "79de88cd",
   "metadata": {
    "trusted": false
   },
   "outputs": [
    {
     "data": {
      "application/vnd.microsoft.datawrangler.viewer.v0+json": {
       "columns": [
        {
         "name": "index",
         "rawType": "int64",
         "type": "integer"
        },
        {
         "name": "track_id",
         "rawType": "int32",
         "type": "integer"
        },
        {
         "name": "user_id",
         "rawType": "int64",
         "type": "integer"
        },
        {
         "name": "avg_track_seq",
         "rawType": "float64",
         "type": "float"
        },
        {
         "name": "users_norm",
         "rawType": "float64",
         "type": "float"
        },
        {
         "name": "avg_track_seq_norm",
         "rawType": "float64",
         "type": "float"
        },
        {
         "name": "track_seq",
         "rawType": "float64",
         "type": "float"
        },
        {
         "name": "albums",
         "rawType": "object",
         "type": "unknown"
        },
        {
         "name": "artists",
         "rawType": "object",
         "type": "unknown"
        },
        {
         "name": "genres",
         "rawType": "object",
         "type": "unknown"
        }
       ],
       "conversionMethod": "pd.DataFrame",
       "ref": "4b0cae6f-2d6d-4d57-9b87-aa6a9b2ce05b",
       "rows": [
        [
         "0",
         "53404",
         "89298",
         "7.97936123989339",
         "0.9999999999999999",
         "0.2908067183288912",
         "0.29080671832889116",
         "[    4367    89708   294911   294912   294914   297393   297394   297399\n   297537  5576245  9952468 10047136 19209253 19209318 19235265 19235284]",
         "[9262]",
         "[ 13  14 102]"
        ],
        [
         "1",
         "178529",
         "60632",
         "9.766426969257157",
         "0.6789813767539782",
         "0.36526779038571483",
         "0.24801002719997617",
         "[   18113    21924    21940   488052 10009799]",
         "[36800]",
         "[41 47]"
        ],
        [
         "2",
         "37384",
         "67633",
         "7.483063001789067",
         "0.7573826668309125",
         "0.2701276250745444",
         "0.2045899810636593",
         "[    3096     5728     5875     6720     8501    59912    67440    89827\n   169476   213144   357765   396521   488108   521762  1826827  2506013\n  3147728  4501413  4501495  4511156  4777791  4862648  4949406  5082294\n  5728306  8850748  8850751  8850754  8850758  8883405  9157134  9210251\n  9210263  9493525  9920066 10068916 10226234 10379596 10635059 10778688\n 10811476 10866033 10997562 11016388 11026894 11043361 11186279 11213124\n 11501743 11502076 11733862 11759018 11759022 11786234 11810137 11810139\n 11817546 11818377 11818412 11818579 11819599 11938331 11951079 12037908\n 12037910 12074863 12077840 12077845 12077848 12122025 12189253 12254432\n 12294287 12301440 12301753 12301755 12342941 12410015 12410017 12415916\n 12437860 12451603 12451803 12511800 12526152 12527177 12529554 12529566\n 12539941 12540424 12607020 12622998 12636655 12688381 12689341 12805755\n 13130619 13483802 13484241 13619672 13751246 14051393 14142064 14203497\n 14225946 14287355 14356608 14362297 14362410 14404705 14404742 14594555\n 15014413 15196720 15244249 15323221 15323309 15497622 15578846 15658278\n 15731135 15748413 16158951 16283446 16480212 16525363 16594423 16933004\n 16955553 17428409 17480430 17703595 17703601 17716162 17816561 17837532\n 18186150 18255364 18276984 18418419 18535865 18581382 18666048 18708916\n 18735710 18794328 18806677 18806776 18806778 18806857 18806875 18821534\n 18852525 18881548 18968809 18985908 18988951 19387459 19746355 19767463\n 19799848 20000887 20359917 20490957 20505078 20617105 20650614 20650817\n 20653036 20920071 21149025 21249959 21269078 21390422]",
         "[7444]",
         "[ 14 102]"
        ],
        [
         "3",
         "48951",
         "54797",
         "8.585871489315108",
         "0.6136376362027839",
         "0.3160779787214628",
         "0.19395734371839227",
         "[    4026    73236   135075   135076   169120  2338182  5347765  5975424\n  9069311 10811476 10997562 11016388 11213124 12137300 12189253 12624728\n 12688381 12689341 12914649 13065054 13141001 13174950 13180352 13489227\n 13552372 13613124 13619629 13706354 14241512 14331994 14550535 14843820\n 14908024 15300085 15338826 15423090 15452219 15452309 15452591 15569847\n 15569868 15686391 15895447 15895544 15934831 16212142 16337522 16451399\n 16702922 16880523 16932730 17026633 17031799 17312825 17365916 17454227\n 17454372 17480411 19691851 19745978 19799848 20002057 20341961 20359917\n 20505078 20653036 20920071 20946824 21149025 21321261]",
         "[1859]",
         "[ 14  59 102]"
        ],
        [
         "4",
         "328683",
         "37560",
         "10.994142705005325",
         "0.4206076351949113",
         "0.4164226127085552",
         "0.1751505303730318",
         "[   33097    51813    67465  2055847  8850751  8850754  8850758  9067535\n  9069872  9136947  9210251  9210263  9491521  9548883  9582865  9582920\n  9593440  9767556 10188906 10217731 10645340 10666177 11016671 11163667\n 11810137 11810139 11819599 12122025 12189253 12198523 12198526 12198548\n 12410015 12410017 12422441 12464147 12529554 12529566 13065054 13174950\n 13619612 13751319 13926360 14404555 14404689 14404705 14550535 14674026\n 15196720 15323221 15338826 15624307 15684931 15705189 15748586 15934779\n 16077195 16331610 16337522 16451399 16702922 16828669 16880523 16955553\n 17178795 17261400 17365872 17428787 17480418 18332003 18509520 18735710\n 18794328 18806857 18989250 19135953 19997545 20002057 20341961 20359917\n 20505078 20653036 21149025 21249959 21321261]",
         "[110173]",
         "[ 13  14 102]"
        ]
       ],
       "shape": {
        "columns": 9,
        "rows": 5
       }
      },
      "text/html": [
       "<div>\n",
       "<style scoped>\n",
       "    .dataframe tbody tr th:only-of-type {\n",
       "        vertical-align: middle;\n",
       "    }\n",
       "\n",
       "    .dataframe tbody tr th {\n",
       "        vertical-align: top;\n",
       "    }\n",
       "\n",
       "    .dataframe thead th {\n",
       "        text-align: right;\n",
       "    }\n",
       "</style>\n",
       "<table border=\"1\" class=\"dataframe\">\n",
       "  <thead>\n",
       "    <tr style=\"text-align: right;\">\n",
       "      <th></th>\n",
       "      <th>track_id</th>\n",
       "      <th>user_id</th>\n",
       "      <th>avg_track_seq</th>\n",
       "      <th>users_norm</th>\n",
       "      <th>avg_track_seq_norm</th>\n",
       "      <th>track_seq</th>\n",
       "      <th>albums</th>\n",
       "      <th>artists</th>\n",
       "      <th>genres</th>\n",
       "    </tr>\n",
       "  </thead>\n",
       "  <tbody>\n",
       "    <tr>\n",
       "      <th>0</th>\n",
       "      <td>53404</td>\n",
       "      <td>89298</td>\n",
       "      <td>7.979361</td>\n",
       "      <td>1.000000</td>\n",
       "      <td>0.290807</td>\n",
       "      <td>0.290807</td>\n",
       "      <td>[4367, 89708, 294911, 294912, 294914, 297393, ...</td>\n",
       "      <td>[9262]</td>\n",
       "      <td>[13, 14, 102]</td>\n",
       "    </tr>\n",
       "    <tr>\n",
       "      <th>1</th>\n",
       "      <td>178529</td>\n",
       "      <td>60632</td>\n",
       "      <td>9.766427</td>\n",
       "      <td>0.678981</td>\n",
       "      <td>0.365268</td>\n",
       "      <td>0.248010</td>\n",
       "      <td>[18113, 21924, 21940, 488052, 10009799]</td>\n",
       "      <td>[36800]</td>\n",
       "      <td>[41, 47]</td>\n",
       "    </tr>\n",
       "    <tr>\n",
       "      <th>2</th>\n",
       "      <td>37384</td>\n",
       "      <td>67633</td>\n",
       "      <td>7.483063</td>\n",
       "      <td>0.757383</td>\n",
       "      <td>0.270128</td>\n",
       "      <td>0.204590</td>\n",
       "      <td>[3096, 5728, 5875, 6720, 8501, 59912, 67440, 8...</td>\n",
       "      <td>[7444]</td>\n",
       "      <td>[14, 102]</td>\n",
       "    </tr>\n",
       "    <tr>\n",
       "      <th>3</th>\n",
       "      <td>48951</td>\n",
       "      <td>54797</td>\n",
       "      <td>8.585871</td>\n",
       "      <td>0.613638</td>\n",
       "      <td>0.316078</td>\n",
       "      <td>0.193957</td>\n",
       "      <td>[4026, 73236, 135075, 135076, 169120, 2338182,...</td>\n",
       "      <td>[1859]</td>\n",
       "      <td>[14, 59, 102]</td>\n",
       "    </tr>\n",
       "    <tr>\n",
       "      <th>4</th>\n",
       "      <td>328683</td>\n",
       "      <td>37560</td>\n",
       "      <td>10.994143</td>\n",
       "      <td>0.420608</td>\n",
       "      <td>0.416423</td>\n",
       "      <td>0.175151</td>\n",
       "      <td>[33097, 51813, 67465, 2055847, 8850751, 885075...</td>\n",
       "      <td>[110173]</td>\n",
       "      <td>[13, 14, 102]</td>\n",
       "    </tr>\n",
       "  </tbody>\n",
       "</table>\n",
       "</div>"
      ],
      "text/plain": [
       "   track_id  user_id  avg_track_seq  users_norm  avg_track_seq_norm  \\\n",
       "0     53404    89298       7.979361    1.000000            0.290807   \n",
       "1    178529    60632       9.766427    0.678981            0.365268   \n",
       "2     37384    67633       7.483063    0.757383            0.270128   \n",
       "3     48951    54797       8.585871    0.613638            0.316078   \n",
       "4    328683    37560      10.994143    0.420608            0.416423   \n",
       "\n",
       "   track_seq                                             albums   artists  \\\n",
       "0   0.290807  [4367, 89708, 294911, 294912, 294914, 297393, ...    [9262]   \n",
       "1   0.248010            [18113, 21924, 21940, 488052, 10009799]   [36800]   \n",
       "2   0.204590  [3096, 5728, 5875, 6720, 8501, 59912, 67440, 8...    [7444]   \n",
       "3   0.193957  [4026, 73236, 135075, 135076, 169120, 2338182,...    [1859]   \n",
       "4   0.175151  [33097, 51813, 67465, 2055847, 8850751, 885075...  [110173]   \n",
       "\n",
       "          genres  \n",
       "0  [13, 14, 102]  \n",
       "1       [41, 47]  \n",
       "2      [14, 102]  \n",
       "3  [14, 59, 102]  \n",
       "4  [13, 14, 102]  "
      ]
     },
     "execution_count": 40,
     "metadata": {},
     "output_type": "execute_result"
    }
   ],
   "source": [
    "top_k_pop_items.head()"
   ]
  },
  {
   "cell_type": "code",
   "execution_count": 41,
   "id": "24e59f5e",
   "metadata": {
    "trusted": false
   },
   "outputs": [],
   "source": [
    "# Сохраняем в s3\n",
    "s3_top_popular_path = f\"s3://{S3_BUCKET_NAME}/recsys/recommendations/top_popular.parquet\"\n",
    "top_k_pop_items.to_parquet(s3_top_popular_path, storage_options=creds, index=False)"
   ]
  },
  {
   "cell_type": "code",
   "execution_count": 42,
   "id": "ddf3b49c",
   "metadata": {
    "trusted": false
   },
   "outputs": [],
   "source": [
    "# Сохраняем локально\n",
    "top_k_pop_items.to_parquet('top_popular.parquet')"
   ]
  },
  {
   "cell_type": "code",
   "execution_count": 43,
   "id": "048aece7",
   "metadata": {
    "trusted": false
   },
   "outputs": [],
   "source": [
    "# Выделяем холодных пользователей с рекоммендациями\n",
    "cold_users_events_with_recs = \\\n",
    "    events_test[events_test[\"user_id\"].isin(cold_users)] \\\n",
    "    .merge(top_k_pop_items[[\"track_id\", \"avg_track_seq\"]], on=\"track_id\", how=\"left\")"
   ]
  },
  {
   "cell_type": "code",
   "execution_count": 44,
   "id": "66e7e626",
   "metadata": {
    "trusted": false
   },
   "outputs": [],
   "source": [
    "# Убираем пользователей с пустым avg_track_seq\n",
    "cold_user_items_no_avg_rating_idx = cold_users_events_with_recs[\"avg_track_seq\"].isnull()\n",
    "cold_user_recs = cold_users_events_with_recs[~cold_user_items_no_avg_rating_idx] \\\n",
    "    [[\"user_id\", \"track_id\", \"track_seq\", \"avg_track_seq\"]]"
   ]
  },
  {
   "cell_type": "markdown",
   "id": "2ad231f2-6158-421a-b7fa-01d8bc3ed572",
   "metadata": {},
   "source": [
    "# Персональные"
   ]
  },
  {
   "cell_type": "markdown",
   "id": "86159460-cd9d-4b63-8248-604ea3c9aebf",
   "metadata": {},
   "source": [
    "Рассчитаем персональные рекомендации."
   ]
  },
  {
   "cell_type": "code",
   "execution_count": 45,
   "id": "d2944822-569c-4f9b-82dc-70a7fa2d542e",
   "metadata": {
    "trusted": false
   },
   "outputs": [],
   "source": [
    "# Перекодируем user_id\n",
    "\n",
    "user_encoder = LabelEncoder()\n",
    "user_encoder.fit(events_train[\"user_id\"])\n",
    "events_train[\"user_id_enc\"] = user_encoder.transform(events_train[\"user_id\"])"
   ]
  },
  {
   "cell_type": "code",
   "execution_count": 46,
   "id": "1e8cdb58-3a8c-45ad-8e5f-7f950314aa56",
   "metadata": {
    "trusted": false
   },
   "outputs": [],
   "source": [
    "# Перекодируем item_id\n",
    "\n",
    "item_encoder = LabelEncoder()\n",
    "item_encoder.fit(items[\"track_id\"])\n",
    "items[\"track_id_enc\"] = item_encoder.transform(items[\"track_id\"])\n",
    "events_train[\"track_id_enc\"] = item_encoder.transform(events_train[\"track_id\"])"
   ]
  },
  {
   "cell_type": "code",
   "execution_count": 47,
   "id": "a75d07ee-4b12-4ce5-aa85-e45cb7a7a4f0",
   "metadata": {
    "trusted": false
   },
   "outputs": [],
   "source": [
    "# sparse-матрица\n",
    "user_item_matrix_train = sp.csr_matrix((\n",
    "    np.ones(len(events_train)),  # все взаимодействия равны 1\n",
    "    (events_train[\"user_id_enc\"], events_train[\"track_id_enc\"])\n",
    "))"
   ]
  },
  {
   "cell_type": "code",
   "execution_count": 48,
   "id": "ce370904-4c49-4152-8706-416074ea9b9a",
   "metadata": {
    "trusted": false
   },
   "outputs": [
    {
     "name": "stderr",
     "output_type": "stream",
     "text": [
      "100%|██████████| 20/20 [04:41<00:00, 14.08s/it]\n"
     ]
    }
   ],
   "source": [
    "# Инициализируем и обучаем ALS-модель\n",
    "als_model = AlternatingLeastSquares(\n",
    "    factors=30, \n",
    "    iterations=20, \n",
    "    regularization=0.05, \n",
    "    random_state=42\n",
    ")\n",
    "\n",
    "als_model.fit(user_item_matrix_train)"
   ]
  },
  {
   "cell_type": "code",
   "execution_count": 49,
   "id": "3bc04231",
   "metadata": {
    "trusted": false
   },
   "outputs": [],
   "source": [
    "# получаем список всех возможных user_id (перекодированных)\n",
    "user_ids_encoded = range(len(user_encoder.classes_))\n",
    "\n",
    "# получаем рекомендации для всех пользователей\n",
    "als_recommendations = als_model.recommend(\n",
    "    user_ids_encoded, \n",
    "    user_item_matrix_train[user_ids_encoded],\n",
    "    filter_already_liked_items=False, \n",
    "    N=50\n",
    ")"
   ]
  },
  {
   "cell_type": "code",
   "execution_count": 50,
   "id": "e070128c",
   "metadata": {
    "trusted": false
   },
   "outputs": [],
   "source": [
    "# преобразуем полученные рекомендации в табличный формат\n",
    "item_ids_enc = als_recommendations[0]\n",
    "als_scores = als_recommendations[1]\n",
    "\n",
    "als_recommendations = pd.DataFrame({\n",
    "    \"user_id_enc\": user_ids_encoded,\n",
    "    \"item_id_enc\": item_ids_enc.tolist(), \n",
    "    \"track_seq\": als_scores.tolist()})\n",
    "als_recommendations = als_recommendations.explode([\"item_id_enc\", \"track_seq\"], ignore_index=True)"
   ]
  },
  {
   "cell_type": "code",
   "execution_count": 51,
   "id": "dc68ce91",
   "metadata": {
    "trusted": false
   },
   "outputs": [],
   "source": [
    "# приводим типы данных\n",
    "als_recommendations[\"item_id_enc\"] = als_recommendations[\"item_id_enc\"].astype(\"int\")\n",
    "als_recommendations[\"track_seq\"] = als_recommendations[\"track_seq\"].astype(\"float\")\n",
    "\n",
    "# получаем изначальные идентификаторы\n",
    "als_recommendations[\"user_id\"] = user_encoder.inverse_transform(als_recommendations[\"user_id_enc\"])\n",
    "als_recommendations[\"track_id\"] = item_encoder.inverse_transform(als_recommendations[\"item_id_enc\"])\n",
    "als_recommendations = als_recommendations.drop(columns=[\"user_id_enc\", \"item_id_enc\"])"
   ]
  },
  {
   "cell_type": "code",
   "execution_count": 52,
   "id": "c4c3d6ef",
   "metadata": {
    "trusted": false
   },
   "outputs": [
    {
     "data": {
      "application/vnd.microsoft.datawrangler.viewer.v0+json": {
       "columns": [
        {
         "name": "index",
         "rawType": "int64",
         "type": "integer"
        },
        {
         "name": "track_seq",
         "rawType": "float64",
         "type": "float"
        },
        {
         "name": "user_id",
         "rawType": "int32",
         "type": "integer"
        },
        {
         "name": "track_id",
         "rawType": "int64",
         "type": "integer"
        }
       ],
       "conversionMethod": "pd.DataFrame",
       "ref": "312ceecb-52c3-40cc-898e-5f40d6f416ed",
       "rows": [
        [
         "0",
         "0.03844853863120079",
         "0",
         "582507"
        ],
        [
         "1",
         "0.014920555986464024",
         "0",
         "732401"
        ],
        [
         "2",
         "0.014681353233754635",
         "0",
         "137670"
        ],
        [
         "3",
         "0.014156931079924107",
         "0",
         "9047114"
        ],
        [
         "4",
         "0.014026434160768986",
         "0",
         "560473"
        ]
       ],
       "shape": {
        "columns": 3,
        "rows": 5
       }
      },
      "text/html": [
       "<div>\n",
       "<style scoped>\n",
       "    .dataframe tbody tr th:only-of-type {\n",
       "        vertical-align: middle;\n",
       "    }\n",
       "\n",
       "    .dataframe tbody tr th {\n",
       "        vertical-align: top;\n",
       "    }\n",
       "\n",
       "    .dataframe thead th {\n",
       "        text-align: right;\n",
       "    }\n",
       "</style>\n",
       "<table border=\"1\" class=\"dataframe\">\n",
       "  <thead>\n",
       "    <tr style=\"text-align: right;\">\n",
       "      <th></th>\n",
       "      <th>track_seq</th>\n",
       "      <th>user_id</th>\n",
       "      <th>track_id</th>\n",
       "    </tr>\n",
       "  </thead>\n",
       "  <tbody>\n",
       "    <tr>\n",
       "      <th>0</th>\n",
       "      <td>0.038449</td>\n",
       "      <td>0</td>\n",
       "      <td>582507</td>\n",
       "    </tr>\n",
       "    <tr>\n",
       "      <th>1</th>\n",
       "      <td>0.014921</td>\n",
       "      <td>0</td>\n",
       "      <td>732401</td>\n",
       "    </tr>\n",
       "    <tr>\n",
       "      <th>2</th>\n",
       "      <td>0.014681</td>\n",
       "      <td>0</td>\n",
       "      <td>137670</td>\n",
       "    </tr>\n",
       "    <tr>\n",
       "      <th>3</th>\n",
       "      <td>0.014157</td>\n",
       "      <td>0</td>\n",
       "      <td>9047114</td>\n",
       "    </tr>\n",
       "    <tr>\n",
       "      <th>4</th>\n",
       "      <td>0.014026</td>\n",
       "      <td>0</td>\n",
       "      <td>560473</td>\n",
       "    </tr>\n",
       "  </tbody>\n",
       "</table>\n",
       "</div>"
      ],
      "text/plain": [
       "   track_seq  user_id  track_id\n",
       "0   0.038449        0    582507\n",
       "1   0.014921        0    732401\n",
       "2   0.014681        0    137670\n",
       "3   0.014157        0   9047114\n",
       "4   0.014026        0    560473"
      ]
     },
     "execution_count": 52,
     "metadata": {},
     "output_type": "execute_result"
    }
   ],
   "source": [
    "als_recommendations.head()"
   ]
  },
  {
   "cell_type": "code",
   "execution_count": 53,
   "id": "82124178",
   "metadata": {
    "trusted": false
   },
   "outputs": [],
   "source": [
    "als_recommendations.to_parquet(\"personal_als.parquet\")"
   ]
  },
  {
   "cell_type": "code",
   "execution_count": 54,
   "id": "d97848e5",
   "metadata": {
    "trusted": false
   },
   "outputs": [],
   "source": [
    "# Сохраняем в s3\n",
    "s3_top_popular_path = f\"s3://{S3_BUCKET_NAME}/recsys/recommendations/personal_als.parquet\"\n",
    "top_k_pop_items.to_parquet(s3_top_popular_path, storage_options=creds, index=False)"
   ]
  },
  {
   "cell_type": "markdown",
   "id": "cacf84cf",
   "metadata": {},
   "source": [
    "# Похожие"
   ]
  },
  {
   "cell_type": "markdown",
   "id": "582f83de",
   "metadata": {},
   "source": [
    "Рассчитаем похожие, они позже пригодятся для онлайн-рекомендаций."
   ]
  },
  {
   "cell_type": "code",
   "execution_count": 55,
   "id": "c2565457",
   "metadata": {
    "trusted": false
   },
   "outputs": [],
   "source": [
    "# получим энкодированные идентификаторы всех объектов, известных нам из events_train\n",
    "train_item_ids_enc = events_train['track_id_enc'].unique()\n",
    "\n",
    "max_similar_items = 10\n",
    "\n",
    "# получаем списки похожих объектов, используя ранее полученную ALS-модель\n",
    "# метод similar_items возвращает и сам объект, как наиболее похожий\n",
    "# этот объект мы позже отфильтруем, но сейчас запросим на 1 больше\n",
    "similar_items = als_model.similar_items(train_item_ids_enc, N=max_similar_items+1)\n",
    "\n",
    "# преобразуем полученные списки в табличный формат\n",
    "sim_item_item_ids_enc = similar_items[0]\n",
    "sim_item_scores = similar_items[1]\n",
    "\n",
    "similar_items = pd.DataFrame({\n",
    "    \"item_id_enc\": train_item_ids_enc,\n",
    "    \"sim_item_id_enc\": sim_item_item_ids_enc.tolist(), \n",
    "    \"track_seq\": sim_item_scores.tolist()  # преобразуем массив оценок в список\n",
    "})\n",
    "similar_items = similar_items.explode([\"sim_item_id_enc\", \"track_seq\"])  # разворачиваем списки в отдельные строки\n",
    "\n",
    "# приводим типы данных\n",
    "similar_items[\"sim_item_id_enc\"] = similar_items[\"sim_item_id_enc\"].astype(\"int\")  # преобразуем в целые числа\n",
    "similar_items[\"track_seq\"] = similar_items[\"track_seq\"].astype(\"float\")\n",
    "\n",
    "# получаем изначальные идентификаторы\n",
    "similar_items[\"item_id_1\"] = item_encoder.inverse_transform(similar_items[\"item_id_enc\"])  # декодируем первый ID\n",
    "similar_items[\"item_id_2\"] = item_encoder.inverse_transform(similar_items[\"sim_item_id_enc\"])  # декодируем второй ID\n",
    "similar_items = similar_items.drop(columns=[\"item_id_enc\", \"sim_item_id_enc\"])\n",
    "\n",
    "# убираем пары с одинаковыми объектами\n",
    "similar_items = similar_items.query(\"item_id_1 != item_id_2\")"
   ]
  },
  {
   "cell_type": "code",
   "execution_count": 56,
   "id": "cba690c8",
   "metadata": {
    "trusted": false
   },
   "outputs": [
    {
     "data": {
      "application/vnd.microsoft.datawrangler.viewer.v0+json": {
       "columns": [
        {
         "name": "index",
         "rawType": "int64",
         "type": "integer"
        },
        {
         "name": "track_seq",
         "rawType": "float64",
         "type": "float"
        },
        {
         "name": "item_id_1",
         "rawType": "int64",
         "type": "integer"
        },
        {
         "name": "item_id_2",
         "rawType": "int64",
         "type": "integer"
        }
       ],
       "conversionMethod": "pd.DataFrame",
       "ref": "6ae8d3ba-9c28-4406-b83f-2ac8f1877b19",
       "rows": [
        [
         "0",
         "0.9790565371513367",
         "99262",
         "99245"
        ],
        [
         "0",
         "0.9719135165214539",
         "99262",
         "99257"
        ],
        [
         "0",
         "0.9543166160583496",
         "99262",
         "274379"
        ],
        [
         "0",
         "0.9528088569641113",
         "99262",
         "99254"
        ],
        [
         "0",
         "0.9526352286338806",
         "99262",
         "99241"
        ]
       ],
       "shape": {
        "columns": 3,
        "rows": 5
       }
      },
      "text/html": [
       "<div>\n",
       "<style scoped>\n",
       "    .dataframe tbody tr th:only-of-type {\n",
       "        vertical-align: middle;\n",
       "    }\n",
       "\n",
       "    .dataframe tbody tr th {\n",
       "        vertical-align: top;\n",
       "    }\n",
       "\n",
       "    .dataframe thead th {\n",
       "        text-align: right;\n",
       "    }\n",
       "</style>\n",
       "<table border=\"1\" class=\"dataframe\">\n",
       "  <thead>\n",
       "    <tr style=\"text-align: right;\">\n",
       "      <th></th>\n",
       "      <th>track_seq</th>\n",
       "      <th>item_id_1</th>\n",
       "      <th>item_id_2</th>\n",
       "    </tr>\n",
       "  </thead>\n",
       "  <tbody>\n",
       "    <tr>\n",
       "      <th>0</th>\n",
       "      <td>0.979057</td>\n",
       "      <td>99262</td>\n",
       "      <td>99245</td>\n",
       "    </tr>\n",
       "    <tr>\n",
       "      <th>0</th>\n",
       "      <td>0.971914</td>\n",
       "      <td>99262</td>\n",
       "      <td>99257</td>\n",
       "    </tr>\n",
       "    <tr>\n",
       "      <th>0</th>\n",
       "      <td>0.954317</td>\n",
       "      <td>99262</td>\n",
       "      <td>274379</td>\n",
       "    </tr>\n",
       "    <tr>\n",
       "      <th>0</th>\n",
       "      <td>0.952809</td>\n",
       "      <td>99262</td>\n",
       "      <td>99254</td>\n",
       "    </tr>\n",
       "    <tr>\n",
       "      <th>0</th>\n",
       "      <td>0.952635</td>\n",
       "      <td>99262</td>\n",
       "      <td>99241</td>\n",
       "    </tr>\n",
       "  </tbody>\n",
       "</table>\n",
       "</div>"
      ],
      "text/plain": [
       "   track_seq  item_id_1  item_id_2\n",
       "0   0.979057      99262      99245\n",
       "0   0.971914      99262      99257\n",
       "0   0.954317      99262     274379\n",
       "0   0.952809      99262      99254\n",
       "0   0.952635      99262      99241"
      ]
     },
     "execution_count": 56,
     "metadata": {},
     "output_type": "execute_result"
    }
   ],
   "source": [
    "similar_items.head()"
   ]
  },
  {
   "cell_type": "code",
   "execution_count": 57,
   "id": "8dd1531d",
   "metadata": {
    "trusted": false
   },
   "outputs": [],
   "source": [
    "similar_items.to_parquet(\"similar.parquet\") "
   ]
  },
  {
   "cell_type": "code",
   "execution_count": 58,
   "id": "013a1dd8",
   "metadata": {
    "trusted": false
   },
   "outputs": [],
   "source": [
    "# Сохраняем в s3\n",
    "s3_top_popular_path = f\"s3://{S3_BUCKET_NAME}/recsys/recommendations/similar.parquet\"\n",
    "top_k_pop_items.to_parquet(s3_top_popular_path, storage_options=creds, index=False)"
   ]
  },
  {
   "cell_type": "markdown",
   "id": "0087a3e7-ca9f-42cd-944c-944222c1baef",
   "metadata": {},
   "source": [
    "# Построение признаков"
   ]
  },
  {
   "cell_type": "markdown",
   "id": "e82a32e1-b90b-4eaf-9439-fc8deab9f34b",
   "metadata": {},
   "source": [
    "Построим три признака, можно больше, для ранжирующей модели."
   ]
  },
  {
   "cell_type": "code",
   "execution_count": 59,
   "id": "05b4ae84-406a-44a4-abec-4f80f93e3004",
   "metadata": {
    "trusted": false
   },
   "outputs": [],
   "source": [
    "events_labels = events_test.copy()\n",
    "\n",
    "events_labels[\"target\"] = 1\n",
    "\n",
    "candidates = als_recommendations.merge(\n",
    "    events_labels[[\"user_id\", \"track_id\", \"target\"]],\n",
    "    on=[\"user_id\", \"track_id\"],\n",
    "    how=\"left\"\n",
    ")\n",
    "candidates[\"target\"] = candidates[\"target\"].fillna(0).astype(\"int\")\n",
    "\n",
    "# в кандидатах оставляем только тех пользователей, у которых есть хотя бы один положительный таргет\n",
    "candidates_to_sample = candidates.groupby(\"user_id\").filter(\n",
    "    lambda x: x[\"target\"].sum() > 0\n",
    ")\n",
    "\n",
    "# для каждого пользователя оставляем только 4 негативных примера\n",
    "negatives_per_user = 4\n",
    "candidates_for_train = pd.concat([\n",
    "    candidates_to_sample.query(\"target == 1\"),  # положительные примеры\n",
    "    candidates_to_sample.query(\"target == 0\") \\\n",
    "        .groupby(\"user_id\") \\\n",
    "        .apply(lambda x: x.sample(negatives_per_user, random_state=0))\n",
    "    ])"
   ]
  },
  {
   "cell_type": "code",
   "execution_count": 60,
   "id": "643d4907",
   "metadata": {
    "trusted": false
   },
   "outputs": [],
   "source": [
    "def get_user_features(events):\n",
    "    \"\"\" считает пользовательские признаки \"\"\"\n",
    "    \n",
    "    user_features = events.groupby(\"user_id\").agg(\n",
    "        listens_years=(\"started_at\", lambda x: (x.max() - x.min()).days / 365.25),\n",
    "        tracks_listen=(\"track_id\", \"nunique\"), \n",
    "        rating_avg=(\"track_seq\", \"mean\"),\n",
    "        rating_std=(\"track_seq\", \"std\")\n",
    "    )\n",
    "    \n",
    "    user_features[\"tracks_per_year\"] = user_features[\"tracks_listen\"] / user_features[\"listens_years\"]\n",
    "    \n",
    "    return user_features"
   ]
  },
  {
   "cell_type": "code",
   "execution_count": 61,
   "id": "55c554e5",
   "metadata": {
    "trusted": false
   },
   "outputs": [],
   "source": [
    "# Добавляем новые фичи для обучающей и тестовой выборки\n",
    "\n",
    "user_features_for_train = get_user_features(events_train)\n",
    "user_features_for_test = get_user_features(events_test)\n",
    "\n",
    "candidates_for_train_new_features = candidates_for_train.merge(\n",
    "    user_features_for_train,\n",
    "    on=[\"user_id\"],\n",
    "    how=\"left\"\n",
    ")\n",
    "\n",
    "candidates_for_rank_new_features = candidates_for_train.merge(\n",
    "    user_features_for_test,\n",
    "    on=[\"user_id\"],\n",
    "    how=\"left\"\n",
    "    )"
   ]
  },
  {
   "cell_type": "markdown",
   "id": "47bcf88d-b236-46f0-a6f3-38ddd64895fe",
   "metadata": {},
   "source": [
    "# Ранжирование рекомендаций"
   ]
  },
  {
   "cell_type": "markdown",
   "id": "e8cd8223-3418-4493-8c87-1f76286ebda0",
   "metadata": {},
   "source": [
    "Построим ранжирующую модель, чтобы сделать рекомендации более точными. Отранжируем рекомендации."
   ]
  },
  {
   "cell_type": "code",
   "execution_count": 63,
   "id": "79f1dd92-32a9-463d-827e-8bb9ee5bbb54",
   "metadata": {
    "trusted": false
   },
   "outputs": [
    {
     "name": "stdout",
     "output_type": "stream",
     "text": [
      "0:\tlearn: 0.6706911\ttotal: 68.3ms\tremaining: 1m 8s\n",
      "100:\tlearn: 0.5747759\ttotal: 970ms\tremaining: 8.63s\n",
      "200:\tlearn: 0.5727775\ttotal: 1.89s\tremaining: 7.5s\n",
      "300:\tlearn: 0.5709971\ttotal: 2.79s\tremaining: 6.48s\n",
      "400:\tlearn: 0.5692702\ttotal: 3.71s\tremaining: 5.55s\n",
      "500:\tlearn: 0.5676935\ttotal: 4.73s\tremaining: 4.71s\n",
      "600:\tlearn: 0.5661188\ttotal: 5.63s\tremaining: 3.74s\n",
      "700:\tlearn: 0.5646174\ttotal: 6.63s\tremaining: 2.83s\n",
      "800:\tlearn: 0.5632483\ttotal: 7.53s\tremaining: 1.87s\n",
      "900:\tlearn: 0.5618804\ttotal: 8.47s\tremaining: 930ms\n",
      "999:\tlearn: 0.5605007\ttotal: 9.37s\tremaining: 0us\n"
     ]
    },
    {
     "data": {
      "text/plain": [
       "<catboost.core.CatBoostClassifier at 0x31e4979d0>"
      ]
     },
     "execution_count": 63,
     "metadata": {},
     "output_type": "execute_result"
    }
   ],
   "source": [
    "# задаём имена колонок признаков и таргета\n",
    "features = [\n",
    "    'track_seq', \n",
    "    'listens_years', \n",
    "    'tracks_listen', \n",
    "    'rating_avg', \n",
    "    'rating_std', \n",
    "    'tracks_per_year'\n",
    "]\n",
    "\n",
    "target = 'target'\n",
    "\n",
    "# создаём Pool\n",
    "train_data = Pool(\n",
    "    data=candidates_for_train_new_features[features], \n",
    "    label=candidates_for_train_new_features[target])\n",
    "\n",
    "# инициализируем модель CatBoostClassifier\n",
    "cb_model = CatBoostClassifier(\n",
    "    iterations=1000,\n",
    "    learning_rate=0.1,\n",
    "    depth=6,\n",
    "    loss_function='Logloss',\n",
    "    verbose=100,\n",
    "    random_seed=0,\n",
    ")\n",
    "\n",
    "# тренируем модель\n",
    "cb_model.fit(train_data)"
   ]
  },
  {
   "cell_type": "code",
   "execution_count": 64,
   "id": "6dbe4db4-1ac5-44da-a13c-8e7f9768ab73",
   "metadata": {
    "trusted": false
   },
   "outputs": [],
   "source": [
    "# Предсказываем для тестовых пользователей с новыми признаками\n",
    "inference_data = Pool(data=candidates_for_rank_new_features[features])\n",
    "predictions = cb_model.predict_proba(inference_data)\n",
    "\n",
    "candidates_for_rank_new_features[\"cb_score\"] = predictions[:, 1]\n",
    "\n",
    "# для каждого пользователя проставим rank, начиная с 1 — это максимальный cb_score\n",
    "candidates_for_rank_new_features = candidates_for_rank_new_features.sort_values([\"user_id\", \"cb_score\"], ascending=[True, False])\n",
    "candidates_for_rank_new_features[\"rank\"] = candidates_for_rank_new_features.groupby(\"user_id\").cumcount() + 1"
   ]
  },
  {
   "cell_type": "code",
   "execution_count": 65,
   "id": "8c7f63a9",
   "metadata": {
    "trusted": false
   },
   "outputs": [],
   "source": [
    "candidates_for_rank_new_features.to_parquet(\"recommendations.parquet\")"
   ]
  },
  {
   "cell_type": "code",
   "execution_count": 66,
   "id": "008c6c2e",
   "metadata": {
    "trusted": false
   },
   "outputs": [],
   "source": [
    "# Сохраняем в s3\n",
    "s3_path = f\"s3://{S3_BUCKET_NAME}/recsys/recommendations/recommendations.parquet\"\n",
    "candidates_for_rank_new_features.to_parquet(s3_path, storage_options=creds, index=False)"
   ]
  },
  {
   "cell_type": "markdown",
   "id": "b3c84071-45b5-4a15-a683-e0ab034a3128",
   "metadata": {},
   "source": [
    "# Оценка качества"
   ]
  },
  {
   "cell_type": "markdown",
   "id": "1b107fe4-554e-42b1-87d9-c435a52bb77a",
   "metadata": {},
   "source": [
    "Проверим оценку качества трёх типов рекомендаций: \n",
    "\n",
    "- топ популярных,\n",
    "- персональных, полученных при помощи ALS,\n",
    "- итоговых\n",
    "  \n",
    "по четырем метрикам: recall, precision, coverage, novelty."
   ]
  },
  {
   "cell_type": "markdown",
   "id": "7b69621d",
   "metadata": {},
   "source": [
    "Все выводы представлены ПОСЛЕ расчетов"
   ]
  },
  {
   "cell_type": "markdown",
   "id": "96ce4396",
   "metadata": {},
   "source": [
    "Топ популярных:"
   ]
  },
  {
   "cell_type": "code",
   "execution_count": 67,
   "id": "928a04ef",
   "metadata": {
    "trusted": false
   },
   "outputs": [
    {
     "name": "stdout",
     "output_type": "stream",
     "text": [
      "0.06\n"
     ]
    }
   ],
   "source": [
    "# События \"холодных\" пользователей в events_test\n",
    "cold_users_events = events_test[events_test[\"user_id\"].isin(cold_users)]\n",
    "\n",
    "# Общее количество событий \"холодных\" пользователей\n",
    "total_cold_events = len(cold_users_events)\n",
    "\n",
    "# Количество событий, где track_id есть в top_k_pop_items\n",
    "matching_events = len(cold_users_events[cold_users_events[\"track_id\"].isin(top_k_pop_items[\"track_id\"])])\n",
    "\n",
    "# Доля совпадений, округлённая до сотых\n",
    "fraction = round(matching_events / total_cold_events, 2)\n",
    "\n",
    "print(fraction)"
   ]
  },
  {
   "cell_type": "code",
   "execution_count": 68,
   "id": "f5860889",
   "metadata": {
    "trusted": false
   },
   "outputs": [
    {
     "name": "stdout",
     "output_type": "stream",
     "text": [
      "6.52 5.72\n"
     ]
    }
   ],
   "source": [
    "# посчитаем метрики рекомендаций\n",
    "\n",
    "rmse = mean_squared_error(cold_user_recs[\"track_seq\"], cold_user_recs[\"avg_track_seq\"], squared=False)\n",
    "mae = mean_absolute_error(cold_user_recs[\"track_seq\"], cold_user_recs[\"avg_track_seq\"])\n",
    "print(round(rmse, 2), round(mae, 2)) "
   ]
  },
  {
   "cell_type": "code",
   "execution_count": 69,
   "id": "40e06452",
   "metadata": {
    "trusted": false
   },
   "outputs": [
    {
     "name": "stdout",
     "output_type": "stream",
     "text": [
      "Доля пользователей без релевантных рекомендаций: 0.51\n",
      "Среднее покрытие пользователей: 0.12\n"
     ]
    }
   ],
   "source": [
    "# посчитаем покрытие холодных пользователей рекомендациями\n",
    "\n",
    "cold_users_hit_ratio = cold_users_events_with_recs.groupby(\"user_id\").agg(hits=(\"avg_track_seq\", lambda x: (~x.isnull()).mean()))\n",
    "\n",
    "print(f\"Доля пользователей без релевантных рекомендаций: {(cold_users_hit_ratio == 0).mean().iat[0]:.2f}\")\n",
    "print(f\"Среднее покрытие пользователей: {cold_users_hit_ratio[cold_users_hit_ratio != 0].mean().iat[0]:.2f}\")"
   ]
  },
  {
   "cell_type": "markdown",
   "id": "c44b8617",
   "metadata": {},
   "source": [
    "персональных, полученных при помощи ALS:"
   ]
  },
  {
   "cell_type": "code",
   "execution_count": 70,
   "id": "bfe2e52a",
   "metadata": {
    "trusted": false
   },
   "outputs": [],
   "source": [
    "def compute_ndcg(rating: pd.Series, score: pd.Series, k):\n",
    "\n",
    "    \"\"\" Метрика оценки качества ранжирования\n",
    "    rating: истинные оценки\n",
    "    score: оценки модели\n",
    "    k: количество айтемов (по убыванию score) для оценки, остальные - отбрасываются\n",
    "    \"\"\"\n",
    "    \n",
    "    # если кол-во объектов меньше 2, то NDCG - не определена\n",
    "    if len(rating) < 2:\n",
    "        return np.nan\n",
    "\n",
    "    ndcg = ndcg_score(np.asarray([rating.to_numpy()]), np.asarray([score.to_numpy()]), k=k)\n",
    "\n",
    "    return ndcg"
   ]
  },
  {
   "cell_type": "code",
   "execution_count": 71,
   "id": "ba6fa0a7",
   "metadata": {
    "trusted": false
   },
   "outputs": [],
   "source": [
    "als_recommendations_for_ndcg = (\n",
    "    als_recommendations\n",
    "    .merge(events_test[[\"user_id\", \"track_id\", \"track_seq\"]].rename(columns={\"track_seq\": \"track_seq_test\"}),  \n",
    "            on=[\"user_id\", \"track_id\"], how=\"left\")\n",
    ")"
   ]
  },
  {
   "cell_type": "code",
   "execution_count": 72,
   "id": "02e081a9",
   "metadata": {
    "trusted": false
   },
   "outputs": [],
   "source": [
    "track_seq_test_idx = ~als_recommendations_for_ndcg[\"track_seq_test\"].isnull()\n",
    "ndcg_at_5_scores = als_recommendations_for_ndcg[track_seq_test_idx].groupby(\"user_id\").apply(lambda x: compute_ndcg(x[\"track_seq_test\"], x[\"track_seq\"], k=5))"
   ]
  },
  {
   "cell_type": "code",
   "execution_count": 73,
   "id": "395cca27",
   "metadata": {
    "trusted": false
   },
   "outputs": [
    {
     "name": "stdout",
     "output_type": "stream",
     "text": [
      "0.9526582383846701\n"
     ]
    }
   ],
   "source": [
    "print(ndcg_at_5_scores.mean())"
   ]
  },
  {
   "cell_type": "markdown",
   "id": "526b9453",
   "metadata": {},
   "source": [
    "Итоговые:"
   ]
  },
  {
   "cell_type": "code",
   "execution_count": 80,
   "id": "94d6f388-aecb-443e-8647-14014e932d4d",
   "metadata": {
    "trusted": false
   },
   "outputs": [],
   "source": [
    "def process_events_recs_for_binary_metrics(events_train, events_test, recs, top_k=None):\n",
    "\n",
    "    \"\"\"\n",
    "    размечает пары <user_id, track_id> для общего множества пользователей признаками\n",
    "    - gt (ground truth)\n",
    "    - pr (prediction)\n",
    "    top_k: расчёт ведётся только для top k-рекомендаций\n",
    "    \"\"\"\n",
    "\n",
    "    events_test[\"gt\"] = True\n",
    "    common_users = set(events_test[\"user_id\"]) & set(recs[\"user_id\"])\n",
    "    \n",
    "    events_for_common_users = events_test[events_test[\"user_id\"].isin(common_users)].copy()\n",
    "    recs_for_common_users = recs[recs[\"user_id\"].isin(common_users)].copy()\n",
    "\n",
    "    recs_for_common_users = recs_for_common_users.sort_values([\"user_id\", \"track_seq\"], ascending=[True, False])\n",
    "\n",
    "    # оставляет только те track_id, которые были в events_train, \n",
    "    # т. к. модель не имела никакой возможности давать рекомендации для новых айтемов\n",
    "    events_for_common_users = events_for_common_users[events_for_common_users[\"track_id\"].isin(events_train[\"track_id\"].unique())]\n",
    "\n",
    "    if top_k is not None:\n",
    "        recs_for_common_users = recs_for_common_users.groupby(\"user_id\").head(top_k)\n",
    "    \n",
    "    events_recs_common = events_for_common_users[[\"user_id\", \"track_id\", \"gt\"]].merge(\n",
    "        recs_for_common_users[[\"user_id\", \"track_id\", \"track_seq\"]], \n",
    "        on=[\"user_id\", \"track_id\"], how=\"outer\")    \n",
    "\n",
    "    events_recs_common[\"gt\"] = events_recs_common[\"gt\"].fillna(False)\n",
    "    events_recs_common[\"pr\"] = ~events_recs_common[\"track_seq\"].isnull()\n",
    "    \n",
    "    events_recs_common[\"tp\"] = events_recs_common[\"gt\"] & events_recs_common[\"pr\"]\n",
    "    events_recs_common[\"fp\"] = ~events_recs_common[\"gt\"] & events_recs_common[\"pr\"]\n",
    "    events_recs_common[\"fn\"] = events_recs_common[\"gt\"] & ~events_recs_common[\"pr\"]\n",
    "\n",
    "    return events_recs_common"
   ]
  },
  {
   "cell_type": "code",
   "execution_count": 81,
   "id": "b306c72f",
   "metadata": {
    "trusted": false
   },
   "outputs": [],
   "source": [
    "def compute_cls_metrics(events_recs_for_binary_metric):\n",
    "    \n",
    "    groupper = events_recs_for_binary_metric.groupby(\"user_id\")\n",
    "\n",
    "    # precision = tp / (tp + fp)\n",
    "    precision = groupper[\"tp\"].sum()/(groupper[\"tp\"].sum()+groupper[\"fp\"].sum())\n",
    "    precision = precision.fillna(0).mean()\n",
    "    \n",
    "    # recall = tp / (tp + fn)\n",
    "    recall = groupper[\"tp\"].sum()/(groupper[\"tp\"].sum()+groupper[\"fn\"].sum())\n",
    "    recall = recall.fillna(0).mean()\n",
    "\n",
    "    return precision, recall"
   ]
  },
  {
   "cell_type": "code",
   "execution_count": 82,
   "id": "8f5fec56",
   "metadata": {
    "trusted": false
   },
   "outputs": [],
   "source": [
    "top_binary_metrics = process_events_recs_for_binary_metrics(\n",
    "    events_train,\n",
    "    events_test, \n",
    "    candidates_for_rank_new_features, \n",
    "    top_k=5\n",
    ")"
   ]
  },
  {
   "cell_type": "code",
   "execution_count": 83,
   "id": "786823b6",
   "metadata": {
    "trusted": false
   },
   "outputs": [],
   "source": [
    "precision_final, recall_final = compute_cls_metrics(top_binary_metrics.groupby('user_id').head(5))"
   ]
  },
  {
   "cell_type": "code",
   "execution_count": 84,
   "id": "2f55fd91",
   "metadata": {
    "trusted": false
   },
   "outputs": [
    {
     "data": {
      "text/plain": [
       "(0.5754856588988546, 0.41473426983931955)"
      ]
     },
     "execution_count": 84,
     "metadata": {},
     "output_type": "execute_result"
    }
   ],
   "source": [
    "precision_final, recall_final"
   ]
  },
  {
   "cell_type": "markdown",
   "id": "f1c8d38c-32b0-46a4-96f0-cd01dac708bc",
   "metadata": {},
   "source": [
    "# === Выводы, метрики ==="
   ]
  },
  {
   "cell_type": "markdown",
   "id": "f7d7d5d8-7d1e-4fdf-a6cd-83e5ce92c684",
   "metadata": {},
   "source": [
    "Основные выводы при работе над расчётом рекомендаций, рассчитанные метрики."
   ]
  },
  {
   "cell_type": "markdown",
   "id": "67fc4d04",
   "metadata": {},
   "source": [
    "Топ популярных:  \n",
    "- Только 6% \"холодных\" пользователей прослушали топ-треки. Это мало\n",
    "- В среднем оценка места трека для пользователя отличается на 5.72. Не очень хороший результат.\n",
    "- Доля пользователей без релевантных рекомендаций: 0.51\n",
    "- Среднее покрытие пользователей: 0.12  \n",
    "ALS:  \n",
    "- NDCG@5 = 0.95 - очень высокое значение, близкое к 1  \n",
    "i2i:  \n",
    "- precision = 0.57  \n",
    "- recall = 0.461 "
   ]
  }
 ],
 "metadata": {
  "kernelspec": {
   "display_name": "env_recsys_start",
   "language": "python",
   "name": "python3"
  },
  "language_info": {
   "codemirror_mode": {
    "name": "ipython",
    "version": 3
   },
   "file_extension": ".py",
   "mimetype": "text/x-python",
   "name": "python",
   "nbconvert_exporter": "python",
   "pygments_lexer": "ipython3",
   "version": "3.9.6"
  },
  "toc": {
   "base_numbering": 1,
   "nav_menu": {},
   "number_sections": true,
   "sideBar": true,
   "skip_h1_title": true,
   "title_cell": "Table of Contents",
   "title_sidebar": "Contents",
   "toc_cell": false,
   "toc_position": {},
   "toc_section_display": true,
   "toc_window_display": false
  }
 },
 "nbformat": 4,
 "nbformat_minor": 5
}
